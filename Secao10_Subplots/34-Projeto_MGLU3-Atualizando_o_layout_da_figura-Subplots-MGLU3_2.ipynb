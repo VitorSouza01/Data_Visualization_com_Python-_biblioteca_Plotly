{
 "cells": [
  {
   "cell_type": "code",
   "execution_count": null,
   "id": "a13a8381-0c97-4137-9834-41b2c871034d",
   "metadata": {},
   "outputs": [],
   "source": [
    "# A Biblioteca Está Apresentando Erro!"
   ]
  },
  {
   "cell_type": "code",
   "execution_count": null,
   "id": "7e93f850-c96a-4db2-8dd9-01036a59e527",
   "metadata": {},
   "outputs": [],
   "source": [
    "# Importando a Biblioteca\n",
    "import plotly.graph_objs as go\n",
    "# Biblioteca está apresentando erro!\n",
    "from pandas_datareader import data\n",
    "from plotly.subplots import make_subplots\n",
    "\n",
    "title = ['Close Price', 'Open Price', 'High Price', 'Low Price']\n",
    "data = data.DataReader(name = 'MGLU3.SA', data_source='yahoo')"
   ]
  },
  {
   "cell_type": "code",
   "execution_count": null,
   "id": "b25b7c0b-881d-4e01-b294-09eb9a2e670b",
   "metadata": {},
   "outputs": [],
   "source": [
    "# Visualizar o Dataset\n",
    "data.head()"
   ]
  },
  {
   "cell_type": "code",
   "execution_count": null,
   "id": "e7bf3130-20bd-4626-b815-3b15b7e0feca",
   "metadata": {},
   "outputs": [],
   "source": [
    "# Visualizar Index\n",
    "data.index"
   ]
  },
  {
   "cell_type": "code",
   "execution_count": null,
   "id": "0e9808b6-c366-4c5d-89a3-9ddda211efc7",
   "metadata": {},
   "outputs": [],
   "source": [
    "# Atualização da Figura \n",
    "fig = make_subplots(rows = 2, cols = 2, subplot_title = titles)\n",
    "\n",
    "fig.add_trace(go.Scatter(\n",
    "    x = data.index,\n",
    "    y = data['Open'],\n",
    "    name = 'Open Price',\n",
    "    mode = 'lines',\n",
    "    line = dict(color = 'blue', width = 1)\n",
    "), row = 1, col = 1)\n",
    "\n",
    "fig.add_trace(go.Scatter(\n",
    "    x = data.index,\n",
    "    y = data['Close'],\n",
    "    name = 'Close Price',\n",
    "    mode = 'lines',\n",
    "    line = dict(color = 'red', width = 1)\n",
    "), row = 1, col = 2)\n",
    "\n",
    "fig.add_trace(go.Scatter(\n",
    "    x = data.index,\n",
    "    y = data['Low'],\n",
    "    name = 'Low Price',\n",
    "    mode = 'lines',\n",
    "    line = dict(color = 'grey', width = 1)\n",
    "), row = 2, col = 1)\n",
    "\n",
    "fig.add_trace(go.Scatter(\n",
    "    x = data.index,\n",
    "    y = data['High'],\n",
    "    name = 'High Price',\n",
    "    mode = 'lines',\n",
    "    line = dict(color = 'black', width = 1)\n",
    "), row = 2, col = 2)\n",
    "\n",
    "fig.update_layout(\n",
    "    title = dict(text = 'MGLU3',\n",
    "                 x = 0.5,\n",
    "                y = 0.9\n",
    "                ),\n",
    "    font_family = 'Arial',\n",
    "    plot_bgcolor = 'white'\n",
    ")\n",
    "\n",
    "fig.show()"
   ]
  }
 ],
 "metadata": {
  "kernelspec": {
   "display_name": "Python 3 (ipykernel)",
   "language": "python",
   "name": "python3"
  },
  "language_info": {
   "codemirror_mode": {
    "name": "ipython",
    "version": 3
   },
   "file_extension": ".py",
   "mimetype": "text/x-python",
   "name": "python",
   "nbconvert_exporter": "python",
   "pygments_lexer": "ipython3",
   "version": "3.11.7"
  }
 },
 "nbformat": 4,
 "nbformat_minor": 5
}
