{
 "cells": [
  {
   "cell_type": "code",
   "execution_count": null,
   "id": "25838a89-8772-4e4d-9c2f-f77cd16c5b49",
   "metadata": {},
   "outputs": [],
   "source": [
    "# A Biblioteca Está Apresentando Erro!"
   ]
  },
  {
   "cell_type": "code",
   "execution_count": null,
   "id": "968589d9-e4e2-41e1-b44e-a52ab508cf92",
   "metadata": {},
   "outputs": [],
   "source": [
    "# Importando a Biblioteca\n",
    "import plotly.graph_objs as go\n",
    "# Biblioteca está apresentando erro!\n",
    "from pandas_datareader import data\n",
    "from plotly.subplots import make_subplots\n",
    "\n",
    "title = ['Close Price', 'Open Price', 'High Price', 'Low Price']\n",
    "data = data.DataReader(name = 'MGLU3.SA', data_source='yahoo')"
   ]
  },
  {
   "cell_type": "code",
   "execution_count": null,
   "id": "c400fd00-273b-47e7-b193-e99ef08c57b7",
   "metadata": {},
   "outputs": [],
   "source": [
    "# Visualizar o Dataset\n",
    "data.head()"
   ]
  },
  {
   "cell_type": "code",
   "execution_count": null,
   "id": "030ed985-3024-4762-b4ab-b83b86507628",
   "metadata": {},
   "outputs": [],
   "source": [
    "# Visualizar Index\n",
    "data.index"
   ]
  },
  {
   "cell_type": "code",
   "execution_count": null,
   "id": "bbc10337-4668-48d4-8e5e-63925c4e74a0",
   "metadata": {},
   "outputs": [],
   "source": [
    "# Atualização da Figura \n",
    "fig = make_subplots(rows = 2, cols = 2, subplot_title = titles)\n",
    "\n",
    "fig.add_trace(go.Scatter(\n",
    "    x = data.index,\n",
    "    y = data['Open'],\n",
    "    name = 'Open Price',\n",
    "    mode = 'lines',\n",
    "    line = dict(color = 'blue', width = 1)\n",
    "), row = 1, col = 1)\n",
    "\n",
    "fig.add_trace(go.Scatter(\n",
    "    x = data.index,\n",
    "    y = data['Close'],\n",
    "    name = 'Close Price',\n",
    "    mode = 'lines',\n",
    "    line = dict(color = 'red', width = 1)\n",
    "), row = 1, col = 2)\n",
    "\n",
    "fig.add_trace(go.Scatter(\n",
    "    x = data.index,\n",
    "    y = data['Low'],\n",
    "    name = 'Low Price',\n",
    "    mode = 'lines',\n",
    "    line = dict(color = 'grey', width = 1)\n",
    "), row = 2, col = 1)\n",
    "\n",
    "fig.add_trace(go.Scatter(\n",
    "    x = data.index,\n",
    "    y = data['High'],\n",
    "    name = 'High Price',\n",
    "    mode = 'lines',\n",
    "    line = dict(color = 'black', width = 1)\n",
    "), row = 2, col = 2)\n",
    "\n",
    "fig.update_layout(\n",
    "    title = dict(text = 'MGLU3',\n",
    "                 x = 0.5,\n",
    "                y = 0.9\n",
    "                ),\n",
    "    font_family = 'Arial',\n",
    "    plot_bgcolor = 'white',\n",
    "    legend = dict(title = 'Options',\n",
    "                 bgcolor = '#FFFF66',\n",
    "                 bordercolor = '#8B0000',\n",
    "                 borderwidth = 1,\n",
    "                 font = dict(\n",
    "                 size = 10,\n",
    "                 color = 'darkred'))\n",
    ")\n",
    "\n",
    "fig.show()"
   ]
  }
 ],
 "metadata": {
  "kernelspec": {
   "display_name": "Python 3 (ipykernel)",
   "language": "python",
   "name": "python3"
  },
  "language_info": {
   "codemirror_mode": {
    "name": "ipython",
    "version": 3
   },
   "file_extension": ".py",
   "mimetype": "text/x-python",
   "name": "python",
   "nbconvert_exporter": "python",
   "pygments_lexer": "ipython3",
   "version": "3.11.7"
  }
 },
 "nbformat": 4,
 "nbformat_minor": 5
}
