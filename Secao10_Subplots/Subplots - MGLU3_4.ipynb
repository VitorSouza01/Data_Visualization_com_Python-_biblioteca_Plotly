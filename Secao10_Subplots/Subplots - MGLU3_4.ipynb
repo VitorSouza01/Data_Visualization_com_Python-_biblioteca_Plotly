{
 "cells": [
  {
   "cell_type": "code",
   "execution_count": null,
   "id": "332440a5-aa8a-495e-bee6-443db98da26b",
   "metadata": {},
   "outputs": [],
   "source": [
    "# A Biblioteca Está Apresentando Erro!"
   ]
  },
  {
   "cell_type": "code",
   "execution_count": null,
   "id": "d3b5266a-2900-4ef4-a2fc-3161ace6b7c5",
   "metadata": {},
   "outputs": [],
   "source": [
    "# Importando a Biblioteca\n",
    "import plotly.graph_objs as go\n",
    "# Biblioteca está apresentando erro!\n",
    "from pandas_datareader import data\n",
    "from plotly.subplots import make_subplots\n",
    "\n",
    "title = ['Close Price', 'Open Price', 'High Price', 'Low Price']\n",
    "data = data.DataReader(name = 'MGLU3.SA', data_source='yahoo')"
   ]
  },
  {
   "cell_type": "code",
   "execution_count": null,
   "id": "3a27d5a9-c26f-4c2e-83af-565b2862da25",
   "metadata": {},
   "outputs": [],
   "source": [
    "# Visualizar o Dataset\n",
    "data.head()"
   ]
  },
  {
   "cell_type": "code",
   "execution_count": null,
   "id": "3dcb337e-6651-4887-96b9-4dd5ca3f0057",
   "metadata": {},
   "outputs": [],
   "source": [
    "# Visualizar Index\n",
    "data.index"
   ]
  },
  {
   "cell_type": "code",
   "execution_count": null,
   "id": "b694ac34-8137-4581-9331-429ad20090d5",
   "metadata": {},
   "outputs": [],
   "source": [
    "# Atualização da Figura \n",
    "fig = make_subplots(rows = 2, cols = 2, subplot_title = titles)\n",
    "\n",
    "fig.add_trace(go.Scatter(\n",
    "    x = data.index,\n",
    "    y = data['Open'],\n",
    "    name = 'Open Price',\n",
    "    mode = 'lines',\n",
    "    line = dict(color = 'blue', width = 1)\n",
    "), row = 1, col = 1)\n",
    "\n",
    "fig.add_trace(go.Scatter(\n",
    "    x = data.index,\n",
    "    y = data['Close'],\n",
    "    name = 'Close Price',\n",
    "    mode = 'lines',\n",
    "    line = dict(color = 'red', width = 1)\n",
    "), row = 1, col = 2)\n",
    "\n",
    "fig.add_trace(go.Scatter(\n",
    "    x = data.index,\n",
    "    y = data['Low'],\n",
    "    name = 'Low Price',\n",
    "    mode = 'lines',\n",
    "    line = dict(color = 'grey', width = 1)\n",
    "), row = 2, col = 1)\n",
    "\n",
    "fig.add_trace(go.Scatter(\n",
    "    x = data.index,\n",
    "    y = data['High'],\n",
    "    name = 'High Price',\n",
    "    mode = 'lines',\n",
    "    line = dict(color = 'black', width = 1)\n",
    "), row = 2, col = 2)\n",
    "\n",
    "fig.update_yaxes(tickprefix=\"$\")\n",
    "\n",
    "fig.update_xaxes(showline=True, linewidth=1, linecolor='grey')\n",
    "fig.update_yaxes(showline=True, linewidth=1, linecolor='grey')\n",
    "\n",
    "fig.update_layout(\n",
    "    title = dict(text = 'MGLU3',\n",
    "                 x = 0.5,\n",
    "                y = 0.9\n",
    "                ),\n",
    "    font_family = 'Arial',\n",
    "    plot_bgcolor = 'white',\n",
    "    legend = dict(title = 'Options',\n",
    "                 bgcolor = '#FFFF66',\n",
    "                 bordercolor = '#8B0000',\n",
    "                 borderwidth = 1,\n",
    "                 font = dict(\n",
    "                 size = 10,\n",
    "                 color = 'darkred'))\n",
    ")\n",
    "\n",
    "fig.show()"
   ]
  }
 ],
 "metadata": {
  "kernelspec": {
   "display_name": "Python 3 (ipykernel)",
   "language": "python",
   "name": "python3"
  },
  "language_info": {
   "codemirror_mode": {
    "name": "ipython",
    "version": 3
   },
   "file_extension": ".py",
   "mimetype": "text/x-python",
   "name": "python",
   "nbconvert_exporter": "python",
   "pygments_lexer": "ipython3",
   "version": "3.11.7"
  }
 },
 "nbformat": 4,
 "nbformat_minor": 5
}
