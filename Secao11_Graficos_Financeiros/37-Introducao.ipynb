{
 "cells": [
  {
   "cell_type": "code",
   "execution_count": null,
   "id": "21923f31-ca3a-4812-8807-3862c4767938",
   "metadata": {},
   "outputs": [],
   "source": [
    "# Introdução\n",
    "# Nesta seção aprenderemos na prática a coletar e visualizar dados financeiros com Plotly !"
   ]
  }
 ],
 "metadata": {
  "kernelspec": {
   "display_name": "Python 3 (ipykernel)",
   "language": "python",
   "name": "python3"
  },
  "language_info": {
   "codemirror_mode": {
    "name": "ipython",
    "version": 3
   },
   "file_extension": ".py",
   "mimetype": "text/x-python",
   "name": "python",
   "nbconvert_exporter": "python",
   "pygments_lexer": "ipython3",
   "version": "3.11.7"
  }
 },
 "nbformat": 4,
 "nbformat_minor": 5
}
