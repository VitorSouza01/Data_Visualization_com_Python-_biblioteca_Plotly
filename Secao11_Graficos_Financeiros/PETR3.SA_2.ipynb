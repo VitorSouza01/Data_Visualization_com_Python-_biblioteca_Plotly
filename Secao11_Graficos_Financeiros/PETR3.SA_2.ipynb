{
 "cells": [
  {
   "cell_type": "code",
   "execution_count": null,
   "id": "e77252fc-8d58-46f5-8cbd-127c1e6d6283",
   "metadata": {},
   "outputs": [],
   "source": [
    "# A Biblioteca Está Apresentando Erro!"
   ]
  },
  {
   "cell_type": "code",
   "execution_count": 4,
   "id": "d8752d6f-18d2-47c3-9bcd-59877a8a6f33",
   "metadata": {},
   "outputs": [
    {
     "ename": "ModuleNotFoundError",
     "evalue": "No module named 'pandas_datareader'",
     "output_type": "error",
     "traceback": [
      "\u001b[1;31m---------------------------------------------------------------------------\u001b[0m",
      "\u001b[1;31mModuleNotFoundError\u001b[0m                       Traceback (most recent call last)",
      "Cell \u001b[1;32mIn[4], line 5\u001b[0m\n\u001b[0;32m      3\u001b[0m \u001b[38;5;28;01mfrom\u001b[39;00m \u001b[38;5;21;01mdatetime\u001b[39;00m \u001b[38;5;28;01mimport\u001b[39;00m datetime\n\u001b[0;32m      4\u001b[0m \u001b[38;5;28;01mimport\u001b[39;00m \u001b[38;5;21;01mpandas\u001b[39;00m \u001b[38;5;28;01mas\u001b[39;00m \u001b[38;5;21;01mpd\u001b[39;00m\n\u001b[1;32m----> 5\u001b[0m \u001b[38;5;28;01mfrom\u001b[39;00m \u001b[38;5;21;01mpandas_datareader\u001b[39;00m \u001b[38;5;28;01mimport\u001b[39;00m data\n\u001b[0;32m      7\u001b[0m data \u001b[38;5;241m=\u001b[39m data\u001b[38;5;241m.\u001b[39mDataReader(name \u001b[38;5;241m=\u001b[39m \u001b[38;5;124m'\u001b[39m\u001b[38;5;124mPETR3.SA\u001b[39m\u001b[38;5;124m'\u001b[39m, data_source\u001b[38;5;241m=\u001b[39m\u001b[38;5;124m'\u001b[39m\u001b[38;5;124myahoo\u001b[39m\u001b[38;5;124m'\u001b[39m)\n",
      "\u001b[1;31mModuleNotFoundError\u001b[0m: No module named 'pandas_datareader'"
     ]
    }
   ],
   "source": [
    "# Importação das Bibliotecas\n",
    "import plotly.graph_objs as go\n",
    "from datetime import datetime\n",
    "import pandas as pd\n",
    "from pandas_datareader import data\n",
    "\n",
    "data = data.DataReader(name = 'PETR3.SA', data_source='yahoo')"
   ]
  },
  {
   "cell_type": "code",
   "execution_count": null,
   "id": "47ceab36-1051-4fb6-b20a-ffea57bd3046",
   "metadata": {},
   "outputs": [],
   "source": [
    "# Visualizar os Dados\n",
    "data.head()"
   ]
  },
  {
   "cell_type": "code",
   "execution_count": null,
   "id": "329f37ea-cbb5-41a4-b761-aff4a8da2199",
   "metadata": {},
   "outputs": [],
   "source": [
    "# Index dos Dados\n",
    "data.index"
   ]
  },
  {
   "cell_type": "code",
   "execution_count": null,
   "id": "5af8ea1f-308d-41b6-b76f-84b5f8f8059a",
   "metadata": {},
   "outputs": [],
   "source": [
    "# Criação da Linha\n",
    "linha = go.Scatter(\n",
    "    x = data.index,\n",
    "    y = data['Close'],\n",
    "    name = 'PETR3 Close Price',\n",
    "    mode = 'lines',\n",
    "    line = dict(color = 'grey')\n",
    ")\n",
    "# Layout da Linha\n",
    "layout = go.Layout(\n",
    "    title = 'PETR3 Close Price',\n",
    "    xaxis = dict(title = 'Tempo'),\n",
    "    yaxis = dict(title = 'Close Price'),\n",
    ")\n",
    "# Criação da Figura\n",
    "fig = go.Figure(linha, layout)\n",
    "# Visualização da Figura\n",
    "fig.show()"
   ]
  },
  {
   "cell_type": "code",
   "execution_count": 5,
   "id": "53a3664d-8152-4d8f-aeb7-ef63fd8de22e",
   "metadata": {},
   "outputs": [
    {
     "data": {
      "text/plain": [
       "datetime.datetime(2024, 9, 15, 0, 58, 57, 924015)"
      ]
     },
     "execution_count": 5,
     "metadata": {},
     "output_type": "execute_result"
    }
   ],
   "source": [
    "# Visualizar Data\n",
    "datetime.now()"
   ]
  },
  {
   "cell_type": "code",
   "execution_count": 7,
   "id": "3b24297a-13cc-4b98-b624-a7d56cfb8ea0",
   "metadata": {},
   "outputs": [
    {
     "data": {
      "text/plain": [
       "'2024-09-15'"
      ]
     },
     "execution_count": 7,
     "metadata": {},
     "output_type": "execute_result"
    }
   ],
   "source": [
    "# Visualizar Data Formatada\n",
    "datetime.now().strftime('%Y-%m-%d')"
   ]
  },
  {
   "cell_type": "code",
   "execution_count": null,
   "id": "f95b6026-8569-44eb-b477-bab54adcd9c3",
   "metadata": {},
   "outputs": [],
   "source": [
    "# Alterando a Figura\n",
    "linha = go.Scatter(\n",
    "    x = data.index,\n",
    "    y = data['Close'],\n",
    "    name = 'PETR3 Close Price',\n",
    "    mode = 'lines',\n",
    "    line = dict(color = 'grey')\n",
    ")\n",
    "layout = go.Layout(\n",
    "    title = 'PETR3 Close Price',\n",
    "    xaxis = dict(title = 'Tempo'),\n",
    "    yaxis = dict(title = 'Close Price'),\n",
    "    xaxis_range = ['2020-01-01', datetime.now().strftime('%Y-%m-%d')]\n",
    ")\n",
    "\n",
    "fig = go.Figure(linha, layout)\n",
    "\n",
    "# Adicionando rangeslider\n",
    "fig.update_xaxes(rangeslider_visible = True)\n",
    "\n",
    "fig.show()"
   ]
  }
 ],
 "metadata": {
  "kernelspec": {
   "display_name": "Python 3 (ipykernel)",
   "language": "python",
   "name": "python3"
  },
  "language_info": {
   "codemirror_mode": {
    "name": "ipython",
    "version": 3
   },
   "file_extension": ".py",
   "mimetype": "text/x-python",
   "name": "python",
   "nbconvert_exporter": "python",
   "pygments_lexer": "ipython3",
   "version": "3.11.7"
  }
 },
 "nbformat": 4,
 "nbformat_minor": 5
}
