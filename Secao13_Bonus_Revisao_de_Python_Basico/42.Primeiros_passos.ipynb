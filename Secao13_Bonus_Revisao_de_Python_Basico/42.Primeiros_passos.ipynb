{
  "nbformat": 4,
  "nbformat_minor": 0,
  "metadata": {
    "colab": {
      "provenance": []
    },
    "kernelspec": {
      "name": "python3",
      "display_name": "Python 3"
    },
    "language_info": {
      "name": "python"
    }
  },
  "cells": [
    {
      "cell_type": "markdown",
      "source": [
        "# 1. Primeiros passos!"
      ],
      "metadata": {
        "id": "dCDAdzrpRVcX"
      }
    },
    {
      "cell_type": "code",
      "execution_count": 1,
      "metadata": {
        "colab": {
          "base_uri": "https://localhost:8080/"
        },
        "id": "b93GEVDwQ64g",
        "outputId": "f8d7e463-fcf0-4a76-9c7d-59c16c94e9bc"
      },
      "outputs": [
        {
          "output_type": "stream",
          "name": "stdout",
          "text": [
            "Hello World!\n"
          ]
        }
      ],
      "source": [
        "print(\"Hello World!\")"
      ]
    },
    {
      "cell_type": "code",
      "source": [
        "print('Hello World!')"
      ],
      "metadata": {
        "colab": {
          "base_uri": "https://localhost:8080/"
        },
        "id": "Y2_nUiYuSkG_",
        "outputId": "46b935eb-305c-47b4-afb2-26b1ce55fa6c"
      },
      "execution_count": 2,
      "outputs": [
        {
          "output_type": "stream",
          "name": "stdout",
          "text": [
            "Hello World!\n"
          ]
        }
      ]
    },
    {
      "cell_type": "code",
      "source": [
        "print(\"Olá, Rafael!\")\n",
        "print(\"Sua idade é 17 anos.\")\n",
        "print(\"Seu peso é 87 Kg.\")"
      ],
      "metadata": {
        "colab": {
          "base_uri": "https://localhost:8080/"
        },
        "id": "064fGiMXSs_-",
        "outputId": "65c51489-d732-4e2f-97af-50497787b1a7"
      },
      "execution_count": 3,
      "outputs": [
        {
          "output_type": "stream",
          "name": "stdout",
          "text": [
            "Olá, Rafael!\n",
            "Sua idade é 17 anos.\n",
            "Seu peso é 87 Kg.\n"
          ]
        }
      ]
    },
    {
      "cell_type": "code",
      "source": [
        "nome = \"Carlos\"\n",
        "idade = \"18\"\n",
        "peso = \"67.5\"\n",
        "print(\"Olá, \" + nome + \" !\")\n",
        "print(f\"Sua idade é {idade} anos.\")\n",
        "print(f\"Seu peso é {peso} Kg.\")"
      ],
      "metadata": {
        "colab": {
          "base_uri": "https://localhost:8080/"
        },
        "id": "c4Jr_8YJUaYq",
        "outputId": "b5786f61-e523-4cd6-b774-5d9fadcba1ed"
      },
      "execution_count": 4,
      "outputs": [
        {
          "output_type": "stream",
          "name": "stdout",
          "text": [
            "Olá, Carlos !\n",
            "Sua idade é 18 anos.\n",
            "Seu peso é 67.5 Kg.\n"
          ]
        }
      ]
    },
    {
      "cell_type": "code",
      "source": [
        "print(f\"Olá, {nome} !\")\n",
        "print(f\"Sua idade é {idade} anos.\")\n",
        "print(f\"Seu peso é {peso} Kg.\")"
      ],
      "metadata": {
        "colab": {
          "base_uri": "https://localhost:8080/"
        },
        "id": "HhZ69uegVDkm",
        "outputId": "3090d0ea-e2fd-41f3-dd58-70695558b45c"
      },
      "execution_count": 5,
      "outputs": [
        {
          "output_type": "stream",
          "name": "stdout",
          "text": [
            "Olá, Carlos !\n",
            "Sua idade é 18 anos.\n",
            "Seu peso é 67.5 Kg.\n"
          ]
        }
      ]
    }
  ]
}