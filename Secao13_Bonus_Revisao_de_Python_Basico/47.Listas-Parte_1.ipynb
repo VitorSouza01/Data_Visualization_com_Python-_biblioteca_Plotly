{
  "cells": [
    {
      "cell_type": "markdown",
      "metadata": {
        "id": "pyHq2ziJfnX5"
      },
      "source": [
        "# 6. Listas"
      ]
    },
    {
      "cell_type": "markdown",
      "metadata": {
        "id": "oOIP5VcMfqPf"
      },
      "source": [
        "* As listas podem ser utilizadas para armazenar valores. Esses valores podem ser strings, tuplas, outras listas, dicionários, dentro de outros."
      ]
    },
    {
      "cell_type": "code",
      "execution_count": null,
      "metadata": {
        "id": "I3216Ymrf_b2"
      },
      "outputs": [],
      "source": [
        "lista1 = [10, 20, 30, 40]"
      ]
    },
    {
      "cell_type": "code",
      "execution_count": null,
      "metadata": {
        "colab": {
          "background_save": true,
          "base_uri": "https://localhost:8080/"
        },
        "id": "kl3aSsRHjenU",
        "outputId": "e6e7e4fe-a858-46b2-af52-214621a4a0e0"
      },
      "outputs": [
        {
          "data": {
            "text/plain": [
              "[10, 20, 30, 40]"
            ]
          },
          "execution_count": 7,
          "metadata": {},
          "output_type": "execute_result"
        }
      ],
      "source": [
        "lista1"
      ]
    },
    {
      "cell_type": "code",
      "source": [
        "lista = [1, 2, 3, 4]"
      ],
      "metadata": {
        "id": "McNFEtRVrL4C"
      },
      "execution_count": 9,
      "outputs": []
    },
    {
      "cell_type": "code",
      "source": [
        "print(lista)"
      ],
      "metadata": {
        "colab": {
          "base_uri": "https://localhost:8080/"
        },
        "id": "NQVs9h5brT92",
        "outputId": "49d5d899-e1eb-4a1f-b0ec-7abe41563dfd"
      },
      "execution_count": 10,
      "outputs": [
        {
          "output_type": "stream",
          "name": "stdout",
          "text": [
            "[1, 2, 3, 4]\n"
          ]
        }
      ]
    },
    {
      "cell_type": "code",
      "execution_count": null,
      "metadata": {
        "id": "AeeT_4mTgeX1"
      },
      "outputs": [],
      "source": [
        "lista2 = [\"Hello World!\", 10, 20, 30, [1, 2, 3], (45, 50)]"
      ]
    },
    {
      "cell_type": "code",
      "execution_count": null,
      "metadata": {
        "colab": {
          "base_uri": "https://localhost:8080/"
        },
        "id": "-S6RKG7lgpTs",
        "outputId": "f02c9c27-6c08-45a4-d180-11784d5a7ea7"
      },
      "outputs": [
        {
          "data": {
            "text/plain": [
              "list"
            ]
          },
          "execution_count": 3,
          "metadata": {},
          "output_type": "execute_result"
        }
      ],
      "source": [
        "type(lista1)"
      ]
    },
    {
      "cell_type": "markdown",
      "metadata": {
        "id": "HlbnZKH8g1t8"
      },
      "source": [
        "* Acessando elementos de uma lista via índice"
      ]
    },
    {
      "cell_type": "code",
      "execution_count": 12,
      "metadata": {
        "id": "Klgr5V5Rg-DY"
      },
      "outputs": [],
      "source": [
        "lista = [\"A\", \"B\", \"C\", \"D\"]"
      ]
    },
    {
      "cell_type": "code",
      "source": [
        "lista[0]"
      ],
      "metadata": {
        "colab": {
          "base_uri": "https://localhost:8080/",
          "height": 35
        },
        "id": "Fp5W3-q1rhiq",
        "outputId": "b876fb48-d729-4fa7-b38d-d068e10e82c2"
      },
      "execution_count": 13,
      "outputs": [
        {
          "output_type": "execute_result",
          "data": {
            "text/plain": [
              "'A'"
            ],
            "application/vnd.google.colaboratory.intrinsic+json": {
              "type": "string"
            }
          },
          "metadata": {},
          "execution_count": 13
        }
      ]
    },
    {
      "cell_type": "code",
      "source": [
        "lista[1]"
      ],
      "metadata": {
        "colab": {
          "base_uri": "https://localhost:8080/",
          "height": 35
        },
        "id": "-6J6yJyErxiO",
        "outputId": "8c61ef72-4984-4e89-c17d-15823f747874"
      },
      "execution_count": 14,
      "outputs": [
        {
          "output_type": "execute_result",
          "data": {
            "text/plain": [
              "'B'"
            ],
            "application/vnd.google.colaboratory.intrinsic+json": {
              "type": "string"
            }
          },
          "metadata": {},
          "execution_count": 14
        }
      ]
    },
    {
      "cell_type": "markdown",
      "metadata": {
        "id": "YRLr27_5hEl-"
      },
      "source": [
        "* Modificação dos elementos de uma lista"
      ]
    },
    {
      "cell_type": "code",
      "execution_count": 15,
      "metadata": {
        "id": "dTW9m-9ehJPh"
      },
      "outputs": [],
      "source": [
        "lista[0] = \"Z\""
      ]
    },
    {
      "cell_type": "code",
      "source": [
        "lista"
      ],
      "metadata": {
        "colab": {
          "base_uri": "https://localhost:8080/"
        },
        "id": "LUgAS8eAr4bH",
        "outputId": "5ba1c6ae-8e88-4f16-9eff-cfdcc2321696"
      },
      "execution_count": 16,
      "outputs": [
        {
          "output_type": "execute_result",
          "data": {
            "text/plain": [
              "['Z', 'B', 'C', 'D']"
            ]
          },
          "metadata": {},
          "execution_count": 16
        }
      ]
    },
    {
      "cell_type": "markdown",
      "source": [
        "* Outra forma de indexação"
      ],
      "metadata": {
        "id": "mP05zJASr-lG"
      }
    },
    {
      "cell_type": "code",
      "source": [
        "b = [\"a\", \"c\", \"d\", \"h\"]"
      ],
      "metadata": {
        "id": "kGqpWEunsDuF"
      },
      "execution_count": 17,
      "outputs": []
    },
    {
      "cell_type": "code",
      "source": [
        "b[-1]"
      ],
      "metadata": {
        "colab": {
          "base_uri": "https://localhost:8080/",
          "height": 35
        },
        "id": "HxfDiLKIsQNq",
        "outputId": "7ef2e049-6658-4fd3-dd08-42a5e409ee25"
      },
      "execution_count": 18,
      "outputs": [
        {
          "output_type": "execute_result",
          "data": {
            "text/plain": [
              "'h'"
            ],
            "application/vnd.google.colaboratory.intrinsic+json": {
              "type": "string"
            }
          },
          "metadata": {},
          "execution_count": 18
        }
      ]
    },
    {
      "cell_type": "code",
      "source": [
        "b[-2]"
      ],
      "metadata": {
        "colab": {
          "base_uri": "https://localhost:8080/",
          "height": 35
        },
        "id": "0gHrzp90tTjh",
        "outputId": "646ef58b-48a6-4f05-ca7e-e57c10f76e93"
      },
      "execution_count": 19,
      "outputs": [
        {
          "output_type": "execute_result",
          "data": {
            "text/plain": [
              "'d'"
            ],
            "application/vnd.google.colaboratory.intrinsic+json": {
              "type": "string"
            }
          },
          "metadata": {},
          "execution_count": 19
        }
      ]
    },
    {
      "cell_type": "code",
      "source": [
        "b[0]"
      ],
      "metadata": {
        "colab": {
          "base_uri": "https://localhost:8080/",
          "height": 35
        },
        "id": "c0LSVGoGtWJn",
        "outputId": "f961300b-b334-4679-d309-3e08de148479"
      },
      "execution_count": 20,
      "outputs": [
        {
          "output_type": "execute_result",
          "data": {
            "text/plain": [
              "'a'"
            ],
            "application/vnd.google.colaboratory.intrinsic+json": {
              "type": "string"
            }
          },
          "metadata": {},
          "execution_count": 20
        }
      ]
    },
    {
      "cell_type": "code",
      "source": [
        "b[-4]"
      ],
      "metadata": {
        "colab": {
          "base_uri": "https://localhost:8080/",
          "height": 35
        },
        "id": "aqTO6dHstZvv",
        "outputId": "acfe9e4e-9dfc-4225-f686-8458ce3acd39"
      },
      "execution_count": 21,
      "outputs": [
        {
          "output_type": "execute_result",
          "data": {
            "text/plain": [
              "'a'"
            ],
            "application/vnd.google.colaboratory.intrinsic+json": {
              "type": "string"
            }
          },
          "metadata": {},
          "execution_count": 21
        }
      ]
    },
    {
      "cell_type": "markdown",
      "source": [
        "Então, podemos acessar os elementos de uma lista de forma contrária (indexação negativa), do fim para o incício. Na nossa lista b teríamos o seguinte:"
      ],
      "metadata": {
        "id": "noOkjSEQsTSq"
      }
    },
    {
      "cell_type": "markdown",
      "source": [
        "* \"h\" - índice -1\n",
        "* \"d\" - índice -2\n",
        "* \"c\" - índice -3\n",
        "* \"a\" - índice -4"
      ],
      "metadata": {
        "id": "sfL_SMMmsrYP"
      }
    },
    {
      "cell_type": "markdown",
      "source": [
        "* Máximo, mínimo, soma e tamanho de uma lista"
      ],
      "metadata": {
        "id": "c0VD3UzsthzN"
      }
    },
    {
      "cell_type": "code",
      "source": [
        "num = [31, 914, 236, 376, 140, 705]"
      ],
      "metadata": {
        "id": "P6l5fcdFtO0c"
      },
      "execution_count": 22,
      "outputs": []
    },
    {
      "cell_type": "code",
      "source": [
        "max(num)"
      ],
      "metadata": {
        "colab": {
          "base_uri": "https://localhost:8080/"
        },
        "id": "d2Oi9KCKt33J",
        "outputId": "a011bd4b-1369-4393-ebc8-f777b66bc97b"
      },
      "execution_count": 23,
      "outputs": [
        {
          "output_type": "execute_result",
          "data": {
            "text/plain": [
              "914"
            ]
          },
          "metadata": {},
          "execution_count": 23
        }
      ]
    },
    {
      "cell_type": "code",
      "source": [
        "min(num)"
      ],
      "metadata": {
        "colab": {
          "base_uri": "https://localhost:8080/"
        },
        "id": "0OlJ3M0ut7Zf",
        "outputId": "e9f850be-ecbe-4bf2-e1c7-bac084dbfe47"
      },
      "execution_count": 24,
      "outputs": [
        {
          "output_type": "execute_result",
          "data": {
            "text/plain": [
              "31"
            ]
          },
          "metadata": {},
          "execution_count": 24
        }
      ]
    },
    {
      "cell_type": "code",
      "source": [
        "len(num)"
      ],
      "metadata": {
        "colab": {
          "base_uri": "https://localhost:8080/"
        },
        "id": "N4_6oHgdt9oI",
        "outputId": "ddfdc8a9-c8c5-4c30-c339-9f442806f3b3"
      },
      "execution_count": 25,
      "outputs": [
        {
          "output_type": "execute_result",
          "data": {
            "text/plain": [
              "6"
            ]
          },
          "metadata": {},
          "execution_count": 25
        }
      ]
    },
    {
      "cell_type": "code",
      "source": [
        "sum(num)"
      ],
      "metadata": {
        "colab": {
          "base_uri": "https://localhost:8080/"
        },
        "id": "uygIcW7ct_jY",
        "outputId": "f10433d8-57d9-415a-f72c-cdf525955601"
      },
      "execution_count": 26,
      "outputs": [
        {
          "output_type": "execute_result",
          "data": {
            "text/plain": [
              "2402"
            ]
          },
          "metadata": {},
          "execution_count": 26
        }
      ]
    },
    {
      "cell_type": "code",
      "source": [
        "media = sum(num)/len(num)"
      ],
      "metadata": {
        "id": "jrW2mpN4vAhb"
      },
      "execution_count": 27,
      "outputs": []
    },
    {
      "cell_type": "code",
      "source": [
        "media"
      ],
      "metadata": {
        "colab": {
          "base_uri": "https://localhost:8080/"
        },
        "id": "XnBsCcJHwH3u",
        "outputId": "c47a9e84-7d65-416a-9cf8-968a8e55d9e1"
      },
      "execution_count": 28,
      "outputs": [
        {
          "output_type": "execute_result",
          "data": {
            "text/plain": [
              "400.3333333333333"
            ]
          },
          "metadata": {},
          "execution_count": 28
        }
      ]
    },
    {
      "cell_type": "code",
      "source": [
        "print(f\"Valor máximo: {max(num)}\")\n",
        "print(f\"Valor mínimo: {min(num)}\")\n",
        "print(f\"Números de elementos: {len(num)}\")\n",
        "print(f\"Soma dos elementos: {sum(num)}\")"
      ],
      "metadata": {
        "colab": {
          "base_uri": "https://localhost:8080/"
        },
        "id": "CfYQh6YduDIJ",
        "outputId": "82160610-3c80-4306-cf06-aeb33520c5e2"
      },
      "execution_count": 29,
      "outputs": [
        {
          "output_type": "stream",
          "name": "stdout",
          "text": [
            "Valor máximo: 914\n",
            "Valor mínimo: 31\n",
            "Números de elementos: 6\n",
            "Soma dos elementos: 2402\n"
          ]
        }
      ]
    },
    {
      "cell_type": "markdown",
      "source": [
        "* Como unir listas"
      ],
      "metadata": {
        "id": "fOEsVfzOwMhQ"
      }
    },
    {
      "cell_type": "code",
      "source": [
        "lista1 = ['a', 'b', 'c']\n",
        "lista2 = ['d', 'e', 'f', 'g']\n",
        "uniao = lista1+lista2\n",
        "print(uniao)"
      ],
      "metadata": {
        "colab": {
          "base_uri": "https://localhost:8080/"
        },
        "id": "RWqJS0tuwPj-",
        "outputId": "b3d8728c-b026-4ae8-8421-faabef5bc7e1"
      },
      "execution_count": 30,
      "outputs": [
        {
          "output_type": "stream",
          "name": "stdout",
          "text": [
            "['a', 'b', 'c', 'd', 'e', 'f', 'g']\n"
          ]
        }
      ]
    },
    {
      "cell_type": "markdown",
      "source": [
        "* Repetindo elementos"
      ],
      "metadata": {
        "id": "eP6dxs7IwvAZ"
      }
    },
    {
      "cell_type": "code",
      "source": [
        "h = [0, 1, 2]\n",
        "h*4"
      ],
      "metadata": {
        "colab": {
          "base_uri": "https://localhost:8080/"
        },
        "id": "cmotsIrYw0OD",
        "outputId": "161c8424-ca48-4470-9b97-e2daacf39a66"
      },
      "execution_count": 31,
      "outputs": [
        {
          "output_type": "execute_result",
          "data": {
            "text/plain": [
              "[0, 1, 2, 0, 1, 2, 0, 1, 2, 0, 1, 2]"
            ]
          },
          "metadata": {},
          "execution_count": 31
        }
      ]
    },
    {
      "cell_type": "code",
      "source": [
        "string = \" Python \"\n",
        "string*4"
      ],
      "metadata": {
        "colab": {
          "base_uri": "https://localhost:8080/",
          "height": 35
        },
        "id": "TzqAkbApxEiE",
        "outputId": "6349a989-13f7-446f-bd8e-3d5d2579ca97"
      },
      "execution_count": 32,
      "outputs": [
        {
          "output_type": "execute_result",
          "data": {
            "text/plain": [
              "' Python  Python  Python  Python '"
            ],
            "application/vnd.google.colaboratory.intrinsic+json": {
              "type": "string"
            }
          },
          "metadata": {},
          "execution_count": 32
        }
      ]
    }
  ],
  "metadata": {
    "colab": {
      "provenance": []
    },
    "kernelspec": {
      "display_name": "Python 3",
      "name": "python3"
    },
    "language_info": {
      "name": "python"
    }
  },
  "nbformat": 4,
  "nbformat_minor": 0
}