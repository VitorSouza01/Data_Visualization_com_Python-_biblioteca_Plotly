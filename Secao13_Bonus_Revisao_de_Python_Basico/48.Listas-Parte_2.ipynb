{
  "nbformat": 4,
  "nbformat_minor": 0,
  "metadata": {
    "colab": {
      "provenance": []
    },
    "kernelspec": {
      "name": "python3",
      "display_name": "Python 3"
    },
    "language_info": {
      "name": "python"
    }
  },
  "cells": [
    {
      "cell_type": "markdown",
      "source": [
        "* Construtor list()"
      ],
      "metadata": {
        "id": "GO6Ro0iNDKU7"
      }
    },
    {
      "cell_type": "code",
      "source": [
        "tupla = (1, 2, 3, 4, 5)\n",
        "lista = list(tupla)"
      ],
      "metadata": {
        "id": "Vs2YqBuoDO4f"
      },
      "execution_count": 1,
      "outputs": []
    },
    {
      "cell_type": "code",
      "source": [
        "type(tupla)"
      ],
      "metadata": {
        "colab": {
          "base_uri": "https://localhost:8080/"
        },
        "id": "Fto-VLY_EI32",
        "outputId": "d4a93259-aa9b-4a03-f309-45600cc199f5"
      },
      "execution_count": 2,
      "outputs": [
        {
          "output_type": "execute_result",
          "data": {
            "text/plain": [
              "tuple"
            ]
          },
          "metadata": {},
          "execution_count": 2
        }
      ]
    },
    {
      "cell_type": "code",
      "source": [
        "type(list)"
      ],
      "metadata": {
        "colab": {
          "base_uri": "https://localhost:8080/"
        },
        "id": "iaYRcgJpEKkk",
        "outputId": "5e116345-6da2-4864-953b-5c22b7e267c4"
      },
      "execution_count": 3,
      "outputs": [
        {
          "output_type": "execute_result",
          "data": {
            "text/plain": [
              "type"
            ]
          },
          "metadata": {},
          "execution_count": 3
        }
      ]
    },
    {
      "cell_type": "markdown",
      "source": [
        "Podemos criar uma lista com uma sequência de números inteiros por meio da função embutida range()."
      ],
      "metadata": {
        "id": "hQKHsMthDWGE"
      }
    },
    {
      "cell_type": "markdown",
      "source": [
        "* Sintaxe: range(início, fim, passo)"
      ],
      "metadata": {
        "id": "ilbufKzHDdlt"
      }
    },
    {
      "cell_type": "code",
      "source": [
        "serie = list(range(2010, 2021))"
      ],
      "metadata": {
        "id": "qAZL202yDhT4"
      },
      "execution_count": 4,
      "outputs": []
    },
    {
      "cell_type": "code",
      "source": [
        "serie"
      ],
      "metadata": {
        "colab": {
          "base_uri": "https://localhost:8080/"
        },
        "id": "-Ti09z-3EV95",
        "outputId": "4e734935-35e0-4723-af01-52a77daf3997"
      },
      "execution_count": 5,
      "outputs": [
        {
          "output_type": "execute_result",
          "data": {
            "text/plain": [
              "[2010, 2011, 2012, 2013, 2014, 2015, 2016, 2017, 2018, 2019, 2020]"
            ]
          },
          "metadata": {},
          "execution_count": 5
        }
      ]
    },
    {
      "cell_type": "markdown",
      "source": [
        "* Convertendo uma string em uma lista"
      ],
      "metadata": {
        "id": "ZyQhf_ZQDkZ2"
      }
    },
    {
      "cell_type": "code",
      "source": [
        "frase = \"Eu amo aprender Python!\"\n",
        "frase.split(sep = \" \")"
      ],
      "metadata": {
        "colab": {
          "base_uri": "https://localhost:8080/"
        },
        "id": "ugsOOmoQDzdy",
        "outputId": "bf1abf8a-acc3-47fd-c4b5-539233873e31"
      },
      "execution_count": 7,
      "outputs": [
        {
          "output_type": "execute_result",
          "data": {
            "text/plain": [
              "['Eu', 'amo', 'aprender', 'Python!']"
            ]
          },
          "metadata": {},
          "execution_count": 7
        }
      ]
    },
    {
      "cell_type": "code",
      "source": [
        "y = \"python%python%python%python\"\n",
        "y.split(sep = \"%\")"
      ],
      "metadata": {
        "colab": {
          "base_uri": "https://localhost:8080/"
        },
        "id": "QNpH1YEiD1h_",
        "outputId": "4c2b4b52-d7b9-49dd-ed5c-0b092cefbe46"
      },
      "execution_count": 8,
      "outputs": [
        {
          "output_type": "execute_result",
          "data": {
            "text/plain": [
              "['python', 'python', 'python', 'python']"
            ]
          },
          "metadata": {},
          "execution_count": 8
        }
      ]
    },
    {
      "cell_type": "markdown",
      "source": [
        "* Definindo listas em termos de variáveis\n",
        "\n"
      ],
      "metadata": {
        "id": "UdCA_JlfEYPW"
      }
    },
    {
      "cell_type": "code",
      "source": [
        "num1 = 10\n",
        "num2 = 20\n",
        "num3 = 30\n",
        "lista = [num1, num2, num3]"
      ],
      "metadata": {
        "id": "dySca-EoEiB_"
      },
      "execution_count": 9,
      "outputs": []
    },
    {
      "cell_type": "code",
      "source": [
        "lista"
      ],
      "metadata": {
        "colab": {
          "base_uri": "https://localhost:8080/"
        },
        "id": "b3J5gyAjE8vA",
        "outputId": "cf1d8d8e-2768-4a9f-8471-44364453606f"
      },
      "execution_count": 10,
      "outputs": [
        {
          "output_type": "execute_result",
          "data": {
            "text/plain": [
              "[10, 20, 30]"
            ]
          },
          "metadata": {},
          "execution_count": 10
        }
      ]
    },
    {
      "cell_type": "markdown",
      "source": [
        "* Desempacotando listas"
      ],
      "metadata": {
        "id": "4fXsBjGGErcO"
      }
    },
    {
      "cell_type": "code",
      "source": [
        "valores = [350, 400, 900, 120]\n",
        "num1, num2, num3, num4 = valores"
      ],
      "metadata": {
        "id": "GPldaW1yEt5z"
      },
      "execution_count": 11,
      "outputs": []
    },
    {
      "cell_type": "code",
      "source": [
        "num1"
      ],
      "metadata": {
        "colab": {
          "base_uri": "https://localhost:8080/"
        },
        "id": "LHLjT_J1FZKI",
        "outputId": "df4d0daa-b0c2-4f3c-8c42-65a8a43dd36d"
      },
      "execution_count": 12,
      "outputs": [
        {
          "output_type": "execute_result",
          "data": {
            "text/plain": [
              "350"
            ]
          },
          "metadata": {},
          "execution_count": 12
        }
      ]
    },
    {
      "cell_type": "code",
      "source": [
        "num2"
      ],
      "metadata": {
        "colab": {
          "base_uri": "https://localhost:8080/"
        },
        "id": "uRjbcbq1FbCA",
        "outputId": "c9d3f8f3-d943-4487-b0ba-b78a5d945358"
      },
      "execution_count": 13,
      "outputs": [
        {
          "output_type": "execute_result",
          "data": {
            "text/plain": [
              "400"
            ]
          },
          "metadata": {},
          "execution_count": 13
        }
      ]
    },
    {
      "cell_type": "code",
      "source": [
        "num3"
      ],
      "metadata": {
        "colab": {
          "base_uri": "https://localhost:8080/"
        },
        "id": "raxJI9tLFcJI",
        "outputId": "8d5e2456-67c3-4b03-da84-3904800c18be"
      },
      "execution_count": 14,
      "outputs": [
        {
          "output_type": "execute_result",
          "data": {
            "text/plain": [
              "900"
            ]
          },
          "metadata": {},
          "execution_count": 14
        }
      ]
    },
    {
      "cell_type": "code",
      "source": [
        "num4"
      ],
      "metadata": {
        "colab": {
          "base_uri": "https://localhost:8080/"
        },
        "id": "94ZLSjjxFdZA",
        "outputId": "3c9d9542-192e-4968-cb92-256a813a083c"
      },
      "execution_count": 15,
      "outputs": [
        {
          "output_type": "execute_result",
          "data": {
            "text/plain": [
              "120"
            ]
          },
          "metadata": {},
          "execution_count": 15
        }
      ]
    },
    {
      "cell_type": "markdown",
      "source": [
        "* Fatiamento de listas (slicing)"
      ],
      "metadata": {
        "id": "6BkUn3e_E_wJ"
      }
    },
    {
      "cell_type": "markdown",
      "source": [
        "Considere a lista hipotética z. Se quisermos selecionar todos os valores entre os índices m-n (selecionar todos os valores começando no valor m até o valor de índice n-1)"
      ],
      "metadata": {
        "id": "YwUxZEVcFDvp"
      }
    },
    {
      "cell_type": "markdown",
      "source": [
        "* z[m:n]"
      ],
      "metadata": {
        "id": "YQS5JeuvFQsd"
      }
    },
    {
      "cell_type": "code",
      "source": [
        "z = [4, 7, 9, 11, 3, 1]"
      ],
      "metadata": {
        "id": "NiujDTSJFUEq"
      },
      "execution_count": 16,
      "outputs": []
    },
    {
      "cell_type": "code",
      "source": [
        "z[1:4]"
      ],
      "metadata": {
        "colab": {
          "base_uri": "https://localhost:8080/"
        },
        "id": "aLFB0zZ1Ffog",
        "outputId": "e4378c84-9115-468e-b343-092ca45d17ce"
      },
      "execution_count": 17,
      "outputs": [
        {
          "output_type": "execute_result",
          "data": {
            "text/plain": [
              "[7, 9, 11]"
            ]
          },
          "metadata": {},
          "execution_count": 17
        }
      ]
    },
    {
      "cell_type": "code",
      "source": [
        "z[1:]"
      ],
      "metadata": {
        "colab": {
          "base_uri": "https://localhost:8080/"
        },
        "id": "m76rnKCiFhnw",
        "outputId": "2fc51e09-e3f0-45aa-ee95-069b21da9722"
      },
      "execution_count": 18,
      "outputs": [
        {
          "output_type": "execute_result",
          "data": {
            "text/plain": [
              "[7, 9, 11, 3, 1]"
            ]
          },
          "metadata": {},
          "execution_count": 18
        }
      ]
    },
    {
      "cell_type": "code",
      "source": [
        "z[:3]"
      ],
      "metadata": {
        "colab": {
          "base_uri": "https://localhost:8080/"
        },
        "id": "eQk0trhkFi57",
        "outputId": "93e2323f-e6b4-48d6-c031-00c0624e2bb9"
      },
      "execution_count": 19,
      "outputs": [
        {
          "output_type": "execute_result",
          "data": {
            "text/plain": [
              "[4, 7, 9]"
            ]
          },
          "metadata": {},
          "execution_count": 19
        }
      ]
    },
    {
      "cell_type": "markdown",
      "source": [
        "* Verificando se um elemento está contido em uma lista"
      ],
      "metadata": {
        "id": "9_4xmnenFw4h"
      }
    },
    {
      "cell_type": "code",
      "source": [
        "k = [\"F\", \"M\", \"J\", \"K\"]  #declara a lista"
      ],
      "metadata": {
        "id": "G8yyQp0FF0qC"
      },
      "execution_count": 20,
      "outputs": []
    },
    {
      "cell_type": "code",
      "source": [
        "\"F\" in k   #verifica se o elemento \"F\" está contido na lista"
      ],
      "metadata": {
        "colab": {
          "base_uri": "https://localhost:8080/"
        },
        "id": "_MhSsm7nF6tc",
        "outputId": "55e414cf-63b9-4255-878a-236f82ff6296"
      },
      "execution_count": 21,
      "outputs": [
        {
          "output_type": "execute_result",
          "data": {
            "text/plain": [
              "True"
            ]
          },
          "metadata": {},
          "execution_count": 21
        }
      ]
    },
    {
      "cell_type": "code",
      "source": [
        "\"F\" not in k  #verifica se o elemento \"F\" não está contido na lista"
      ],
      "metadata": {
        "colab": {
          "base_uri": "https://localhost:8080/"
        },
        "id": "VNlHWWaiF_kk",
        "outputId": "ebc87ca5-67a5-4072-ede5-87132908b58a"
      },
      "execution_count": 22,
      "outputs": [
        {
          "output_type": "execute_result",
          "data": {
            "text/plain": [
              "False"
            ]
          },
          "metadata": {},
          "execution_count": 22
        }
      ]
    }
  ]
}