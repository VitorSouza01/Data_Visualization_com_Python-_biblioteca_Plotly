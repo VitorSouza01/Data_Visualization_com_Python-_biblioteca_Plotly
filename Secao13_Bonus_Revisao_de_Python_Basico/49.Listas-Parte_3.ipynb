{
  "nbformat": 4,
  "nbformat_minor": 0,
  "metadata": {
    "colab": {
      "provenance": []
    },
    "kernelspec": {
      "name": "python3",
      "display_name": "Python 3"
    },
    "language_info": {
      "name": "python"
    }
  },
  "cells": [
    {
      "cell_type": "markdown",
      "source": [
        "* Métodos em listas"
      ],
      "metadata": {
        "id": "CePyzmyFG7PE"
      }
    },
    {
      "cell_type": "markdown",
      "source": [
        "* **Métodos em List** / **Descrição**\n",
        "\n",
        "* append() -> Adiciona um elemento ao final da lista.\n",
        "* insert() -> Adiciona um elemento em um índice especificado.\n",
        "* extend() -> Adiciona os elementos de um iterável no final de uma lista.\n",
        "* pop() -> Remove e retorna um elemento de um índice especificado.\n",
        "* remove() -> Remove o primeiro elemento com o valor especificado.\n",
        "* clear() -> Remove todos os elementos de uma lista.\n",
        "* copy() -> Retorna uma cópia da lista selecionada.\n",
        "* sort() -> Ordena a lista.\n",
        "* reverse() -> Reverte a ordem dos elementos em uma lista.\n",
        "* index() -> Retorna o primeiro índice do elemento especificado.\n",
        "* count() -> Conta o número de vezes que o elemento aparece na lista.\n",
        "\n"
      ],
      "metadata": {
        "id": "vyDudCibG-FK"
      }
    },
    {
      "cell_type": "markdown",
      "source": [
        "append() -> Adiciona um elemento ao final da lista."
      ],
      "metadata": {
        "id": "mnssVPAUI8PD"
      }
    },
    {
      "cell_type": "code",
      "source": [
        "numeros = [45, 50, 55]  #declara a lista\n",
        "numeros.append(60)  #adiciona o número 60 ao final da lista"
      ],
      "metadata": {
        "id": "62DRFNPzHV_w"
      },
      "execution_count": 1,
      "outputs": []
    },
    {
      "cell_type": "code",
      "source": [
        "numeros"
      ],
      "metadata": {
        "colab": {
          "base_uri": "https://localhost:8080/"
        },
        "id": "CqL5fLMWJPbJ",
        "outputId": "fa698eb4-d4a3-4998-a69a-eb617dcf1ba8"
      },
      "execution_count": 2,
      "outputs": [
        {
          "output_type": "execute_result",
          "data": {
            "text/plain": [
              "[45, 50, 55, 60]"
            ]
          },
          "metadata": {},
          "execution_count": 2
        }
      ]
    },
    {
      "cell_type": "code",
      "source": [
        "numeros.append(77)"
      ],
      "metadata": {
        "id": "09mu7CVgJQ8Y"
      },
      "execution_count": 3,
      "outputs": []
    },
    {
      "cell_type": "code",
      "source": [
        "numeros"
      ],
      "metadata": {
        "colab": {
          "base_uri": "https://localhost:8080/"
        },
        "id": "VgpUEDRdJUCy",
        "outputId": "c8c863fe-340f-4124-bdc1-6befb6208890"
      },
      "execution_count": 4,
      "outputs": [
        {
          "output_type": "execute_result",
          "data": {
            "text/plain": [
              "[45, 50, 55, 60, 77]"
            ]
          },
          "metadata": {},
          "execution_count": 4
        }
      ]
    },
    {
      "cell_type": "markdown",
      "source": [
        "Se fizermos numeros.append(60,61) teremos:"
      ],
      "metadata": {
        "id": "V51awi5cJVT_"
      }
    },
    {
      "cell_type": "markdown",
      "source": [
        "* TypeError: append() takes exactly one argument (5 given)"
      ],
      "metadata": {
        "id": "PSl1uiuVJZ4Q"
      }
    },
    {
      "cell_type": "markdown",
      "source": [
        "Ou seja, o método append recebe apenas um argumento. Poderíamo então colocar os números dentro de uma lista ou tupla e passar como argumento de função append."
      ],
      "metadata": {
        "id": "mw2GNWh5Jg2h"
      }
    },
    {
      "cell_type": "code",
      "source": [
        "numeros.append([60,65])"
      ],
      "metadata": {
        "id": "rXDhnTk4JvaQ"
      },
      "execution_count": 5,
      "outputs": []
    },
    {
      "cell_type": "code",
      "source": [
        "numeros"
      ],
      "metadata": {
        "colab": {
          "base_uri": "https://localhost:8080/"
        },
        "id": "I5MV_ERAJ3E4",
        "outputId": "3a62a516-2631-4235-e43a-909ceb0edaf3"
      },
      "execution_count": 6,
      "outputs": [
        {
          "output_type": "execute_result",
          "data": {
            "text/plain": [
              "[45, 50, 55, 60, 77, [60, 65]]"
            ]
          },
          "metadata": {},
          "execution_count": 6
        }
      ]
    },
    {
      "cell_type": "markdown",
      "source": [
        "extend() -> Adiciona os elementos de um iterável no final de uma lista."
      ],
      "metadata": {
        "id": "-BETlkQiJ4Xw"
      }
    },
    {
      "cell_type": "code",
      "source": [
        "numeros = [0, 0, 0, 0]  #declaramos uma lista\n",
        "numeros.extend([1, 2, 3])  #adicionamos apenas os números do iterável"
      ],
      "metadata": {
        "id": "Y7KDuAQnJ8VG"
      },
      "execution_count": 7,
      "outputs": []
    },
    {
      "cell_type": "code",
      "source": [
        "numeros"
      ],
      "metadata": {
        "colab": {
          "base_uri": "https://localhost:8080/"
        },
        "id": "3B56YJKYKK1m",
        "outputId": "1f5aa592-c735-4246-93a2-8617aa374f84"
      },
      "execution_count": 8,
      "outputs": [
        {
          "output_type": "execute_result",
          "data": {
            "text/plain": [
              "[0, 0, 0, 0, 1, 2, 3]"
            ]
          },
          "metadata": {},
          "execution_count": 8
        }
      ]
    },
    {
      "cell_type": "code",
      "source": [
        "numeros.extend([60, 61])"
      ],
      "metadata": {
        "id": "nTsDZ2WIKiDo"
      },
      "execution_count": 11,
      "outputs": []
    },
    {
      "cell_type": "code",
      "source": [
        "numeros"
      ],
      "metadata": {
        "colab": {
          "base_uri": "https://localhost:8080/"
        },
        "id": "SchZzE-BKnVh",
        "outputId": "c87c8383-4e24-4672-9fd2-898eff2e3865"
      },
      "execution_count": 12,
      "outputs": [
        {
          "output_type": "execute_result",
          "data": {
            "text/plain": [
              "[0, 0, 0, 0, 1, 2, 3, 'a', 'b', 'c', 'd', 'e', 'f', 60, 61]"
            ]
          },
          "metadata": {},
          "execution_count": 12
        }
      ]
    },
    {
      "cell_type": "code",
      "source": [
        "numeros.extend(\"abcdef\")  #adicionamos as letras da string"
      ],
      "metadata": {
        "id": "bzjKof_OKMgp"
      },
      "execution_count": 9,
      "outputs": []
    },
    {
      "cell_type": "code",
      "source": [
        "numeros"
      ],
      "metadata": {
        "colab": {
          "base_uri": "https://localhost:8080/"
        },
        "id": "n1lk9LhuKRcg",
        "outputId": "514147e1-e2ce-411d-ff45-fd88cd8f8ae9"
      },
      "execution_count": 10,
      "outputs": [
        {
          "output_type": "execute_result",
          "data": {
            "text/plain": [
              "[0, 0, 0, 0, 1, 2, 3, 'a', 'b', 'c', 'd', 'e', 'f']"
            ]
          },
          "metadata": {},
          "execution_count": 10
        }
      ]
    },
    {
      "cell_type": "markdown",
      "source": [
        "insert() -> Adiciona um elemento em um índice especificado.\n",
        "\n"
      ],
      "metadata": {
        "id": "6O6SMxDbKTPl"
      }
    },
    {
      "cell_type": "markdown",
      "source": [
        "* lista.insert(index,object) - primeiro passamos o índice e depois o objeto."
      ],
      "metadata": {
        "id": "Bg6HhmZ5Kq4T"
      }
    },
    {
      "cell_type": "code",
      "source": [
        "numeros = [4, 10, 11, 12, 7, 9, 15]  #declara a lista"
      ],
      "metadata": {
        "id": "L8UJyTGgKZwX"
      },
      "execution_count": 13,
      "outputs": []
    },
    {
      "cell_type": "code",
      "source": [
        "numeros[1]"
      ],
      "metadata": {
        "colab": {
          "base_uri": "https://localhost:8080/"
        },
        "id": "se26L5xGLPc5",
        "outputId": "fdb436f2-5292-49a7-945d-ffa0152a7166"
      },
      "execution_count": 16,
      "outputs": [
        {
          "output_type": "execute_result",
          "data": {
            "text/plain": [
              "0"
            ]
          },
          "metadata": {},
          "execution_count": 16
        }
      ]
    },
    {
      "cell_type": "code",
      "source": [
        "numeros.insert(1, 0)  #insere o número 0 no índice"
      ],
      "metadata": {
        "id": "Dv2EfPiKK3d2"
      },
      "execution_count": 17,
      "outputs": []
    },
    {
      "cell_type": "code",
      "source": [
        "numeros"
      ],
      "metadata": {
        "colab": {
          "base_uri": "https://localhost:8080/"
        },
        "id": "yt2xu-dRK8ng",
        "outputId": "17cc8e95-4b11-4516-f378-3ea10d24bf00"
      },
      "execution_count": 18,
      "outputs": [
        {
          "output_type": "execute_result",
          "data": {
            "text/plain": [
              "[4, 0, 0, 10, 11, 12, 7, 9, 15]"
            ]
          },
          "metadata": {},
          "execution_count": 18
        }
      ]
    },
    {
      "cell_type": "code",
      "source": [
        "numeros[1]"
      ],
      "metadata": {
        "colab": {
          "base_uri": "https://localhost:8080/"
        },
        "id": "F7pDNnjYLV9w",
        "outputId": "b325a49a-f44d-44ab-c6c5-b3dbfde7bebb"
      },
      "execution_count": 19,
      "outputs": [
        {
          "output_type": "execute_result",
          "data": {
            "text/plain": [
              "0"
            ]
          },
          "metadata": {},
          "execution_count": 19
        }
      ]
    },
    {
      "cell_type": "markdown",
      "source": [
        "remove() -> Remove o primeiro elemento com o valor especificado."
      ],
      "metadata": {
        "id": "xVbY_SN3K-n1"
      }
    },
    {
      "cell_type": "markdown",
      "source": [
        "ValueError: se inserirmos um valor que não esteja na lista teremos esse tipo de erro."
      ],
      "metadata": {
        "id": "B_XpVE98LDZM"
      }
    },
    {
      "cell_type": "code",
      "source": [
        "numeros = [10, 11, 12, 13]\n",
        "numeros.remove(13)  #removemos o número 13 da lista"
      ],
      "metadata": {
        "id": "VFeGYcC5LLbo"
      },
      "execution_count": 21,
      "outputs": []
    },
    {
      "cell_type": "code",
      "source": [
        "numeros"
      ],
      "metadata": {
        "colab": {
          "base_uri": "https://localhost:8080/"
        },
        "id": "HaHW2b07Li-R",
        "outputId": "76bfcb55-d39f-4ca7-bad6-bd45dcfe5e18"
      },
      "execution_count": 22,
      "outputs": [
        {
          "output_type": "execute_result",
          "data": {
            "text/plain": [
              "[10, 11, 12]"
            ]
          },
          "metadata": {},
          "execution_count": 22
        }
      ]
    },
    {
      "cell_type": "code",
      "source": [
        "numeros.remove(15)"
      ],
      "metadata": {
        "colab": {
          "base_uri": "https://localhost:8080/",
          "height": 141
        },
        "id": "dVYUCqh7L4Jg",
        "outputId": "f8c12bf8-cc79-4a79-bbeb-ff98b34f795a"
      },
      "execution_count": 23,
      "outputs": [
        {
          "output_type": "error",
          "ename": "ValueError",
          "evalue": "list.remove(x): x not in list",
          "traceback": [
            "\u001b[0;31m---------------------------------------------------------------------------\u001b[0m",
            "\u001b[0;31mValueError\u001b[0m                                Traceback (most recent call last)",
            "\u001b[0;32m<ipython-input-23-32c783032fea>\u001b[0m in \u001b[0;36m<cell line: 1>\u001b[0;34m()\u001b[0m\n\u001b[0;32m----> 1\u001b[0;31m \u001b[0mnumeros\u001b[0m\u001b[0;34m.\u001b[0m\u001b[0mremove\u001b[0m\u001b[0;34m(\u001b[0m\u001b[0;36m15\u001b[0m\u001b[0;34m)\u001b[0m\u001b[0;34m\u001b[0m\u001b[0;34m\u001b[0m\u001b[0m\n\u001b[0m",
            "\u001b[0;31mValueError\u001b[0m: list.remove(x): x not in list"
          ]
        }
      ]
    },
    {
      "cell_type": "markdown",
      "source": [
        "pop() -> Remove e retorna um elemento de um índice especificado."
      ],
      "metadata": {
        "id": "hrx6qchGLj_P"
      }
    },
    {
      "cell_type": "code",
      "source": [
        "numeros = [\"k\", \"m\", \"z\", \"a\", \"b\", \"o\"]"
      ],
      "metadata": {
        "id": "4GQVQ23nLnby"
      },
      "execution_count": 24,
      "outputs": []
    },
    {
      "cell_type": "code",
      "source": [
        "numeros.pop()  #se não inserirmos o índice, o último elemento será removido"
      ],
      "metadata": {
        "colab": {
          "base_uri": "https://localhost:8080/",
          "height": 35
        },
        "id": "oUibOj_eLv2n",
        "outputId": "821a2426-c352-41c9-f9f2-9666bb6486ef"
      },
      "execution_count": 25,
      "outputs": [
        {
          "output_type": "execute_result",
          "data": {
            "text/plain": [
              "'o'"
            ],
            "application/vnd.google.colaboratory.intrinsic+json": {
              "type": "string"
            }
          },
          "metadata": {},
          "execution_count": 25
        }
      ]
    },
    {
      "cell_type": "code",
      "source": [
        "numeros"
      ],
      "metadata": {
        "colab": {
          "base_uri": "https://localhost:8080/"
        },
        "id": "r4YQNIkgL0mV",
        "outputId": "4b2089b7-0925-4223-d339-7f6341c3e48e"
      },
      "execution_count": 26,
      "outputs": [
        {
          "output_type": "execute_result",
          "data": {
            "text/plain": [
              "['k', 'm', 'z', 'a', 'b']"
            ]
          },
          "metadata": {},
          "execution_count": 26
        }
      ]
    },
    {
      "cell_type": "code",
      "source": [
        "numeros.pop(1)  #remove o retorna o elemento com índice 1"
      ],
      "metadata": {
        "colab": {
          "base_uri": "https://localhost:8080/",
          "height": 35
        },
        "id": "nhOP7MnNL_6B",
        "outputId": "90a8e4ce-9a18-4f4d-96e0-786b3c500308"
      },
      "execution_count": 27,
      "outputs": [
        {
          "output_type": "execute_result",
          "data": {
            "text/plain": [
              "'m'"
            ],
            "application/vnd.google.colaboratory.intrinsic+json": {
              "type": "string"
            }
          },
          "metadata": {},
          "execution_count": 27
        }
      ]
    },
    {
      "cell_type": "code",
      "source": [
        "numeros"
      ],
      "metadata": {
        "colab": {
          "base_uri": "https://localhost:8080/"
        },
        "id": "-dl9crglME-C",
        "outputId": "db6e1dfc-0914-45e8-c6b6-56f1c31986ff"
      },
      "execution_count": 28,
      "outputs": [
        {
          "output_type": "execute_result",
          "data": {
            "text/plain": [
              "['k', 'z', 'a', 'b']"
            ]
          },
          "metadata": {},
          "execution_count": 28
        }
      ]
    },
    {
      "cell_type": "markdown",
      "source": [
        "Também podemos deletar elementos de uma lista com a instrução del:"
      ],
      "metadata": {
        "id": "uH4rDH4MMI0t"
      }
    },
    {
      "cell_type": "code",
      "source": [
        "letras = [\"k\", \"i\", \"j\", \"m\"]\n",
        "del letras[0]  #deletamos o item do índice 0"
      ],
      "metadata": {
        "id": "oaSCjXQvMdfE"
      },
      "execution_count": 29,
      "outputs": []
    },
    {
      "cell_type": "code",
      "source": [
        "letras"
      ],
      "metadata": {
        "colab": {
          "base_uri": "https://localhost:8080/"
        },
        "id": "N5DiK-aWMlph",
        "outputId": "5e266568-84b4-4fb3-ed50-c68855672400"
      },
      "execution_count": 30,
      "outputs": [
        {
          "output_type": "execute_result",
          "data": {
            "text/plain": [
              "['i', 'j', 'm']"
            ]
          },
          "metadata": {},
          "execution_count": 30
        }
      ]
    },
    {
      "cell_type": "markdown",
      "source": [
        "Podemos deletar completamente a lista:"
      ],
      "metadata": {
        "id": "MaZEpN4sMmsL"
      }
    },
    {
      "cell_type": "code",
      "source": [
        "del letras"
      ],
      "metadata": {
        "id": "Zmn2X4VsMpli"
      },
      "execution_count": 31,
      "outputs": []
    },
    {
      "cell_type": "code",
      "source": [
        "letras"
      ],
      "metadata": {
        "colab": {
          "base_uri": "https://localhost:8080/",
          "height": 141
        },
        "id": "kzNvhuM8NB5e",
        "outputId": "b5bd0bb3-e8b7-4c7b-de20-a5e81e036bd4"
      },
      "execution_count": 32,
      "outputs": [
        {
          "output_type": "error",
          "ename": "NameError",
          "evalue": "name 'letras' is not defined",
          "traceback": [
            "\u001b[0;31m---------------------------------------------------------------------------\u001b[0m",
            "\u001b[0;31mNameError\u001b[0m                                 Traceback (most recent call last)",
            "\u001b[0;32m<ipython-input-32-b1488c23f584>\u001b[0m in \u001b[0;36m<cell line: 1>\u001b[0;34m()\u001b[0m\n\u001b[0;32m----> 1\u001b[0;31m \u001b[0mletras\u001b[0m\u001b[0;34m\u001b[0m\u001b[0;34m\u001b[0m\u001b[0m\n\u001b[0m",
            "\u001b[0;31mNameError\u001b[0m: name 'letras' is not defined"
          ]
        }
      ]
    },
    {
      "cell_type": "markdown",
      "source": [
        "Já não temos mais a lista letras. Se tentarmos acessá-la teremos: NameError."
      ],
      "metadata": {
        "id": "QgpRtoR8MrVg"
      }
    },
    {
      "cell_type": "markdown",
      "source": [
        "clear() -> Remove todos os elementos de uma lista."
      ],
      "metadata": {
        "id": "vjjuPsguM3t3"
      }
    },
    {
      "cell_type": "code",
      "source": [
        "letras = [\"abc\", \"ab\", \"a\"]\n",
        "letras.clear()"
      ],
      "metadata": {
        "id": "46pC5ckiM-uL"
      },
      "execution_count": 33,
      "outputs": []
    },
    {
      "cell_type": "code",
      "source": [
        "letras"
      ],
      "metadata": {
        "colab": {
          "base_uri": "https://localhost:8080/"
        },
        "id": "F8FCgoWGNSSN",
        "outputId": "4df8772f-4d27-4ef7-8f4e-7bd9d07671fd"
      },
      "execution_count": 34,
      "outputs": [
        {
          "output_type": "execute_result",
          "data": {
            "text/plain": [
              "[]"
            ]
          },
          "metadata": {},
          "execution_count": 34
        }
      ]
    },
    {
      "cell_type": "markdown",
      "source": [
        "count() -> Conta o número de vezes que o elemento aparece na lista."
      ],
      "metadata": {
        "id": "988NqiuMNTyQ"
      }
    },
    {
      "cell_type": "code",
      "source": [
        "numeros = [1, 1, 1, 0, 0, 0, 5, 3, 1, 2]"
      ],
      "metadata": {
        "id": "tSQTg_pwNX2d"
      },
      "execution_count": 37,
      "outputs": []
    },
    {
      "cell_type": "code",
      "source": [
        "numeros.count(1)  #conta o número de ocorrências do número 1"
      ],
      "metadata": {
        "colab": {
          "base_uri": "https://localhost:8080/"
        },
        "id": "80NJpgw2Nbnw",
        "outputId": "d84d1aef-e262-43a2-8984-b6ee452376c6"
      },
      "execution_count": 38,
      "outputs": [
        {
          "output_type": "execute_result",
          "data": {
            "text/plain": [
              "4"
            ]
          },
          "metadata": {},
          "execution_count": 38
        }
      ]
    },
    {
      "cell_type": "code",
      "source": [
        "numeros.count(0)"
      ],
      "metadata": {
        "colab": {
          "base_uri": "https://localhost:8080/"
        },
        "id": "fkfFvH1yN60B",
        "outputId": "880b39dd-27a6-4d78-ee53-a400d86dc0b8"
      },
      "execution_count": 39,
      "outputs": [
        {
          "output_type": "execute_result",
          "data": {
            "text/plain": [
              "3"
            ]
          },
          "metadata": {},
          "execution_count": 39
        }
      ]
    },
    {
      "cell_type": "markdown",
      "source": [
        "reverse() -> Reverte a ordem dos elementos em uma lista."
      ],
      "metadata": {
        "id": "a5paAUDHNikp"
      }
    },
    {
      "cell_type": "code",
      "source": [
        "numeros = [10, 11, 12, 13, 14, 15]\n",
        "numeros.reverse()  #inverte a ordem da lista"
      ],
      "metadata": {
        "id": "2y3LRnSbNl3Q"
      },
      "execution_count": 40,
      "outputs": []
    },
    {
      "cell_type": "code",
      "source": [
        "numeros"
      ],
      "metadata": {
        "colab": {
          "base_uri": "https://localhost:8080/"
        },
        "id": "oa6GeMjcN_jw",
        "outputId": "96e3b603-6cca-4cb7-e75c-4929255d7d25"
      },
      "execution_count": 41,
      "outputs": [
        {
          "output_type": "execute_result",
          "data": {
            "text/plain": [
              "[15, 14, 13, 12, 11, 10]"
            ]
          },
          "metadata": {},
          "execution_count": 41
        }
      ]
    },
    {
      "cell_type": "markdown",
      "source": [
        "sort() -> Ordena a lista."
      ],
      "metadata": {
        "id": "vr0lwsjcOA1P"
      }
    },
    {
      "cell_type": "code",
      "source": [
        "numeros = [-10, 100, -1, 60, 76, 33, -30, 150]  #declara uma lista não ordenada"
      ],
      "metadata": {
        "id": "qYW9yQyOOEh3"
      },
      "execution_count": 42,
      "outputs": []
    },
    {
      "cell_type": "code",
      "source": [
        "numeros"
      ],
      "metadata": {
        "colab": {
          "base_uri": "https://localhost:8080/"
        },
        "id": "wt0bVw76OTNJ",
        "outputId": "6519daf8-eb40-4335-cb8a-0462f3189f85"
      },
      "execution_count": 43,
      "outputs": [
        {
          "output_type": "execute_result",
          "data": {
            "text/plain": [
              "[-10, 100, -1, 60, 76, 33, -30, 150]"
            ]
          },
          "metadata": {},
          "execution_count": 43
        }
      ]
    },
    {
      "cell_type": "code",
      "source": [
        "numeros.sort()  #ordena a lista"
      ],
      "metadata": {
        "id": "7OCnR06MOUDS"
      },
      "execution_count": 44,
      "outputs": []
    },
    {
      "cell_type": "code",
      "source": [
        "numeros"
      ],
      "metadata": {
        "colab": {
          "base_uri": "https://localhost:8080/"
        },
        "id": "zmT9TaYROXi5",
        "outputId": "da3399a3-486d-4744-cbf4-48fbedf18615"
      },
      "execution_count": 45,
      "outputs": [
        {
          "output_type": "execute_result",
          "data": {
            "text/plain": [
              "[-30, -10, -1, 33, 60, 76, 100, 150]"
            ]
          },
          "metadata": {},
          "execution_count": 45
        }
      ]
    },
    {
      "cell_type": "markdown",
      "source": [
        "index() -> Retorna o primeiro índice do elemento especificado."
      ],
      "metadata": {
        "id": "WnIyMDFWOYpw"
      }
    },
    {
      "cell_type": "markdown",
      "source": [
        "* index(value, start=0,stop)"
      ],
      "metadata": {
        "id": "Q3fE6X-TOdk0"
      }
    },
    {
      "cell_type": "code",
      "source": [
        "lista = [5, 6, 7, 8]"
      ],
      "metadata": {
        "id": "cWpkEKBFQINS"
      },
      "execution_count": 46,
      "outputs": []
    },
    {
      "cell_type": "code",
      "source": [
        "lista.index(5)  #retorna o índice da primeira ocorrência do número 5"
      ],
      "metadata": {
        "colab": {
          "base_uri": "https://localhost:8080/"
        },
        "id": "XusCwtdtQKg7",
        "outputId": "faf588cf-5d0e-4bd6-c15f-73d687b00185"
      },
      "execution_count": 47,
      "outputs": [
        {
          "output_type": "execute_result",
          "data": {
            "text/plain": [
              "0"
            ]
          },
          "metadata": {},
          "execution_count": 47
        }
      ]
    },
    {
      "cell_type": "code",
      "source": [
        "numeros = [1, 2, 3, 3, 3, 3, 3, 7, 7, 8, 9, 10, 10, 11, 12, 11]\n",
        "numeros.index(3)  #retorna o índice da primeira ocorrência do número 3"
      ],
      "metadata": {
        "colab": {
          "base_uri": "https://localhost:8080/"
        },
        "id": "n3iMy1zsQRLi",
        "outputId": "11628e97-29b1-45dd-b8a3-cd8b6fd3e909"
      },
      "execution_count": 48,
      "outputs": [
        {
          "output_type": "execute_result",
          "data": {
            "text/plain": [
              "2"
            ]
          },
          "metadata": {},
          "execution_count": 48
        }
      ]
    },
    {
      "cell_type": "code",
      "source": [
        "numeros.index(3, 5)  #retorna o índice do valor3, começando a contar a partir do índice 5"
      ],
      "metadata": {
        "colab": {
          "base_uri": "https://localhost:8080/"
        },
        "id": "p4ZXkyggQdgy",
        "outputId": "d537ed31-8fd0-4fb2-d8eb-7b2d7e218c21"
      },
      "execution_count": 49,
      "outputs": [
        {
          "output_type": "execute_result",
          "data": {
            "text/plain": [
              "5"
            ]
          },
          "metadata": {},
          "execution_count": 49
        }
      ]
    }
  ]
}