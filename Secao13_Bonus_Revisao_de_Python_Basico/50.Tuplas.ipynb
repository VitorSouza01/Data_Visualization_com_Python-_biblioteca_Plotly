{
  "nbformat": 4,
  "nbformat_minor": 0,
  "metadata": {
    "colab": {
      "provenance": []
    },
    "kernelspec": {
      "name": "python3",
      "display_name": "Python 3"
    },
    "language_info": {
      "name": "python"
    }
  },
  "cells": [
    {
      "cell_type": "markdown",
      "source": [
        "# 7. Tuplas"
      ],
      "metadata": {
        "id": "C0wjFQ4QRHwW"
      }
    },
    {
      "cell_type": "markdown",
      "source": [
        "* Tuplas são coleções ordenadas e imutáveis. Existem dois métodos para tuplas:count e index. Podemos criar tuplas com()"
      ],
      "metadata": {
        "id": "KeX8-8pMSZw-"
      }
    },
    {
      "cell_type": "code",
      "source": [
        "tupla = (1, 2, 3, 4, 5)\n",
        "type(tupla)  #checa o tipo do objeto criado"
      ],
      "metadata": {
        "colab": {
          "base_uri": "https://localhost:8080/"
        },
        "id": "QSTcboCfSzLl",
        "outputId": "32b4fc21-c14f-4c65-92ea-41601fdf8143"
      },
      "execution_count": 1,
      "outputs": [
        {
          "output_type": "execute_result",
          "data": {
            "text/plain": [
              "tuple"
            ]
          },
          "metadata": {},
          "execution_count": 1
        }
      ]
    },
    {
      "cell_type": "code",
      "source": [
        "tupla1 = 1, 2, 3, 4, 5\n",
        "type(tupla1)"
      ],
      "metadata": {
        "colab": {
          "base_uri": "https://localhost:8080/"
        },
        "id": "IR2pX7VVTAwD",
        "outputId": "43f7f4bd-dc67-4db1-dd30-870ee4e98afa"
      },
      "execution_count": 2,
      "outputs": [
        {
          "output_type": "execute_result",
          "data": {
            "text/plain": [
              "tuple"
            ]
          },
          "metadata": {},
          "execution_count": 2
        }
      ]
    },
    {
      "cell_type": "code",
      "source": [
        "tupla = (10)\n",
        "type(tupla)"
      ],
      "metadata": {
        "colab": {
          "base_uri": "https://localhost:8080/"
        },
        "id": "0BZ2a6SZTsUe",
        "outputId": "bda993ff-79fc-4de0-d710-559a016ded55"
      },
      "execution_count": 3,
      "outputs": [
        {
          "output_type": "execute_result",
          "data": {
            "text/plain": [
              "int"
            ]
          },
          "metadata": {},
          "execution_count": 3
        }
      ]
    },
    {
      "cell_type": "code",
      "source": [
        "tupla = (10, )\n",
        "type(tupla)"
      ],
      "metadata": {
        "colab": {
          "base_uri": "https://localhost:8080/"
        },
        "id": "HjIzUtIWTxyv",
        "outputId": "9e6858f5-bffe-4b88-8ccc-15cc699c60fc"
      },
      "execution_count": 5,
      "outputs": [
        {
          "output_type": "execute_result",
          "data": {
            "text/plain": [
              "tuple"
            ]
          },
          "metadata": {},
          "execution_count": 5
        }
      ]
    },
    {
      "cell_type": "code",
      "source": [
        "tupla = 10,\n",
        "type(tupla)"
      ],
      "metadata": {
        "colab": {
          "base_uri": "https://localhost:8080/"
        },
        "id": "hdvXDCJ0T4ET",
        "outputId": "74419a08-cfd7-4dfb-a5cb-2a3e880b8686"
      },
      "execution_count": 6,
      "outputs": [
        {
          "output_type": "execute_result",
          "data": {
            "text/plain": [
              "tuple"
            ]
          },
          "metadata": {},
          "execution_count": 6
        }
      ]
    },
    {
      "cell_type": "markdown",
      "source": [
        "* Métodos em tuplas"
      ],
      "metadata": {
        "id": "p047Xw3WTE6O"
      }
    },
    {
      "cell_type": "markdown",
      "source": [
        "* **Método** / **Descrição**\n",
        "* index() -> Retorna o índice do elemento especificado.\n",
        "* count() -> Conta o número de vezes que o elemento aparece na tupla.\n"
      ],
      "metadata": {
        "id": "hFblyvxtTIiL"
      }
    },
    {
      "cell_type": "code",
      "source": [
        "tupla = (\"a\", \"b\", \"c\", \"d\")"
      ],
      "metadata": {
        "id": "rC0YyTfzUSZH"
      },
      "execution_count": 9,
      "outputs": []
    },
    {
      "cell_type": "code",
      "source": [
        "tupla.index(\"b\")"
      ],
      "metadata": {
        "colab": {
          "base_uri": "https://localhost:8080/"
        },
        "id": "2fWzZ0VCU3ZN",
        "outputId": "0acb2e5b-bba0-4341-f507-94ded8f18ad7"
      },
      "execution_count": 10,
      "outputs": [
        {
          "output_type": "execute_result",
          "data": {
            "text/plain": [
              "1"
            ]
          },
          "metadata": {},
          "execution_count": 10
        }
      ]
    },
    {
      "cell_type": "code",
      "source": [
        "tupla.index(\"d\")"
      ],
      "metadata": {
        "colab": {
          "base_uri": "https://localhost:8080/"
        },
        "id": "4AbjwsRfU5xl",
        "outputId": "7963f2d5-960e-4998-b45f-9492c142ea30"
      },
      "execution_count": 11,
      "outputs": [
        {
          "output_type": "execute_result",
          "data": {
            "text/plain": [
              "3"
            ]
          },
          "metadata": {},
          "execution_count": 11
        }
      ]
    },
    {
      "cell_type": "code",
      "source": [
        "tupla.count(\"a\")"
      ],
      "metadata": {
        "id": "OrUlmxl2U9rS",
        "outputId": "c1c0a574-523d-44eb-c92d-cbcb92c874e6",
        "colab": {
          "base_uri": "https://localhost:8080/"
        }
      },
      "execution_count": 12,
      "outputs": [
        {
          "output_type": "execute_result",
          "data": {
            "text/plain": [
              "1"
            ]
          },
          "metadata": {},
          "execution_count": 12
        }
      ]
    },
    {
      "cell_type": "code",
      "source": [
        "print(f\"Índice de 'a': {tupla.index('a')}\")\n",
        "print(f\"Índice de 'd': {tupla.index('d')}\")"
      ],
      "metadata": {
        "colab": {
          "base_uri": "https://localhost:8080/"
        },
        "id": "poEBFdmgU1is",
        "outputId": "fd5fbe82-471f-447d-d8e9-496fe6225358"
      },
      "execution_count": 13,
      "outputs": [
        {
          "output_type": "stream",
          "name": "stdout",
          "text": [
            "Índice de 'a': 0\n",
            "Índice de 'd': 3\n"
          ]
        }
      ]
    },
    {
      "cell_type": "code",
      "source": [
        "tupla = (\"a\", \"z\", \"z\", \"z\", \"w\")\n",
        "print(tupla.count(\"z\"))"
      ],
      "metadata": {
        "colab": {
          "base_uri": "https://localhost:8080/"
        },
        "id": "rdpO0T6kUjCm",
        "outputId": "4c4a8c5d-c740-4583-a60b-ee2b376fee88"
      },
      "execution_count": 8,
      "outputs": [
        {
          "output_type": "stream",
          "name": "stdout",
          "text": [
            "3\n"
          ]
        }
      ]
    }
  ]
}