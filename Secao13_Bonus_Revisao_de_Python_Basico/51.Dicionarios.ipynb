{
  "nbformat": 4,
  "nbformat_minor": 0,
  "metadata": {
    "colab": {
      "provenance": []
    },
    "kernelspec": {
      "name": "python3",
      "display_name": "Python 3"
    },
    "language_info": {
      "name": "python"
    }
  },
  "cells": [
    {
      "cell_type": "markdown",
      "source": [
        "# 8. Dicionários"
      ],
      "metadata": {
        "id": "1SPc8UMvVeds"
      }
    },
    {
      "cell_type": "markdown",
      "source": [
        "* Tipo de dados chave-valor, ou seja, para cada chave associa um valor correspondente.\n",
        "* Usamos dicionários para criar DataFrames na biblioteca Pandas (DataScience)."
      ],
      "metadata": {
        "id": "D5_gv1hsVjW1"
      }
    },
    {
      "cell_type": "code",
      "source": [
        "dict1 = {\n",
        "    \"chave1\":\"valor1\",\n",
        "    \"chave2\":\"valor2\"}"
      ],
      "metadata": {
        "id": "dLpeF5rQVybr"
      },
      "execution_count": 1,
      "outputs": []
    },
    {
      "cell_type": "code",
      "source": [
        "dict1"
      ],
      "metadata": {
        "colab": {
          "base_uri": "https://localhost:8080/"
        },
        "id": "OF149VfaWtuL",
        "outputId": "fee0ec13-b54c-48e3-e13e-da7e3404ac0b"
      },
      "execution_count": 2,
      "outputs": [
        {
          "output_type": "execute_result",
          "data": {
            "text/plain": [
              "{'chave1': 'valor1', 'chave2': 'valor2'}"
            ]
          },
          "metadata": {},
          "execution_count": 2
        }
      ]
    },
    {
      "cell_type": "code",
      "source": [
        "type(dict1)"
      ],
      "metadata": {
        "colab": {
          "base_uri": "https://localhost:8080/"
        },
        "id": "6LJsTW9nWurq",
        "outputId": "5820bdb3-e709-4421-cc72-47b500251937"
      },
      "execution_count": 3,
      "outputs": [
        {
          "output_type": "execute_result",
          "data": {
            "text/plain": [
              "dict"
            ]
          },
          "metadata": {},
          "execution_count": 3
        }
      ]
    },
    {
      "cell_type": "code",
      "source": [
        "dados = {\"nome\":\"PS4\", \"valor\":2500, \"estoque\":50, \"categoria\":\"video game\",}"
      ],
      "metadata": {
        "id": "mt0xszWhWwf9"
      },
      "execution_count": 4,
      "outputs": []
    },
    {
      "cell_type": "code",
      "source": [
        "dados"
      ],
      "metadata": {
        "colab": {
          "base_uri": "https://localhost:8080/"
        },
        "id": "okAbdrEMW-nC",
        "outputId": "2feb9d90-4f45-4e56-da61-c05e5bcdd80e"
      },
      "execution_count": 5,
      "outputs": [
        {
          "output_type": "execute_result",
          "data": {
            "text/plain": [
              "{'nome': 'PS4', 'valor': 2500, 'estoque': 50, 'categoria': 'video game'}"
            ]
          },
          "metadata": {},
          "execution_count": 5
        }
      ]
    },
    {
      "cell_type": "markdown",
      "source": [
        "* Acessando elementos"
      ],
      "metadata": {
        "id": "3R4EceOhW_an"
      }
    },
    {
      "cell_type": "code",
      "source": [
        "dados[\"nome\"]"
      ],
      "metadata": {
        "colab": {
          "base_uri": "https://localhost:8080/",
          "height": 35
        },
        "id": "nRpp9t7hXBqZ",
        "outputId": "81b2aa95-a601-408c-d22e-57522b34ef33"
      },
      "execution_count": 6,
      "outputs": [
        {
          "output_type": "execute_result",
          "data": {
            "text/plain": [
              "'PS4'"
            ],
            "application/vnd.google.colaboratory.intrinsic+json": {
              "type": "string"
            }
          },
          "metadata": {},
          "execution_count": 6
        }
      ]
    },
    {
      "cell_type": "code",
      "source": [
        "dados[\"valor\"]"
      ],
      "metadata": {
        "colab": {
          "base_uri": "https://localhost:8080/"
        },
        "id": "aZKHJd9OXEPn",
        "outputId": "cbb70564-2634-4be4-dacb-cbe89fa1ba5e"
      },
      "execution_count": 7,
      "outputs": [
        {
          "output_type": "execute_result",
          "data": {
            "text/plain": [
              "2500"
            ]
          },
          "metadata": {},
          "execution_count": 7
        }
      ]
    },
    {
      "cell_type": "code",
      "source": [
        "dict2 = {\n",
        "    \"chave1\":[1, 3, 5],\n",
        "    \"chave2\":[2, 4, 6],\n",
        "    \"chave3\":(7, 9, 11),\n",
        "    \"chave4\":(13, 15, 17),\n",
        "}"
      ],
      "metadata": {
        "id": "Sx3wRWehXUjg"
      },
      "execution_count": 8,
      "outputs": []
    },
    {
      "cell_type": "markdown",
      "source": [
        "* Mudando valores"
      ],
      "metadata": {
        "id": "PI_XUTL4XpDg"
      }
    },
    {
      "cell_type": "code",
      "source": [
        "dados = {\"nome\":\"PS4\", \"valor\":2500, \"estoque\":50, \"categoria\":\"video game\",}"
      ],
      "metadata": {
        "id": "6UWiv3s4XrmP"
      },
      "execution_count": 9,
      "outputs": []
    },
    {
      "cell_type": "code",
      "source": [
        "dados[\"valor\"] = 3000"
      ],
      "metadata": {
        "id": "BgS1KDRnX7Bi"
      },
      "execution_count": 10,
      "outputs": []
    },
    {
      "cell_type": "code",
      "source": [
        "dados"
      ],
      "metadata": {
        "colab": {
          "base_uri": "https://localhost:8080/"
        },
        "id": "ZpoUpiN-X_o7",
        "outputId": "64c847b1-d5f2-4fce-de53-fc004acdc959"
      },
      "execution_count": 11,
      "outputs": [
        {
          "output_type": "execute_result",
          "data": {
            "text/plain": [
              "{'nome': 'PS4', 'valor': 3000, 'estoque': 50, 'categoria': 'video game'}"
            ]
          },
          "metadata": {},
          "execution_count": 11
        }
      ]
    }
  ]
}