{
  "nbformat": 4,
  "nbformat_minor": 0,
  "metadata": {
    "colab": {
      "provenance": []
    },
    "kernelspec": {
      "name": "python3",
      "display_name": "Python 3"
    },
    "language_info": {
      "name": "python"
    }
  },
  "cells": [
    {
      "cell_type": "markdown",
      "source": [
        "9. Estruturas condicionais"
      ],
      "metadata": {
        "id": "KEf2g_0jYOjk"
      }
    },
    {
      "cell_type": "code",
      "source": [
        "if <condição>:\n",
        "    <bloco_de_código1>\n",
        "else:\n",
        "    <bloco_de_código2>"
      ],
      "metadata": {
        "id": "PPk8Zs5fYdIB"
      },
      "execution_count": null,
      "outputs": []
    },
    {
      "cell_type": "code",
      "source": [
        "if True:\n",
        "    print(\"Seja bem-vindo!\")"
      ],
      "metadata": {
        "colab": {
          "base_uri": "https://localhost:8080/"
        },
        "id": "8WuGZQzMYm2Q",
        "outputId": "b412e5e7-732b-4511-98e6-70aca9df18e2"
      },
      "execution_count": 1,
      "outputs": [
        {
          "output_type": "stream",
          "name": "stdout",
          "text": [
            "Seja bem-vindo!\n"
          ]
        }
      ]
    },
    {
      "cell_type": "code",
      "source": [
        "num = 50\n",
        "if num >= 25:\n",
        "    print(\"O número é maior que 25.\")\n",
        "    print(\"Seja bem-vindo!\")"
      ],
      "metadata": {
        "colab": {
          "base_uri": "https://localhost:8080/"
        },
        "id": "1rPFBvwnZiul",
        "outputId": "9b4b8c9a-fc59-4430-ce61-896a55c76250"
      },
      "execution_count": 2,
      "outputs": [
        {
          "output_type": "stream",
          "name": "stdout",
          "text": [
            "O número é maior que 25.\n",
            "Seja bem-vindo!\n"
          ]
        }
      ]
    },
    {
      "cell_type": "code",
      "source": [
        "num = 10\n",
        "if num >= 25:\n",
        "    print(\"O número é maior que 25.\")\n",
        "    print(\"Seja bem-vindo!\")"
      ],
      "metadata": {
        "id": "FR22d3wEZuuX"
      },
      "execution_count": 3,
      "outputs": []
    },
    {
      "cell_type": "code",
      "source": [
        "if False:\n",
        "    print(\"Seja bem-vindo!\")"
      ],
      "metadata": {
        "id": "jIAzW-XBYrY4"
      },
      "execution_count": null,
      "outputs": []
    },
    {
      "cell_type": "code",
      "source": [
        "nome = input(\"Digite seu nome: \")\n",
        "idade = int(input(\"Digite sua idade: \"))\n",
        "if idade >= 18:\n",
        "    print(f\"Olá, {nome}!\")\n",
        "    print(\"Seja bem-vindo ao nosso sistema.\")\n",
        "else:\n",
        "    print(f\"Olá, {nome}!\")\n",
        "    print(\"Acesso negado.\")"
      ],
      "metadata": {
        "colab": {
          "base_uri": "https://localhost:8080/"
        },
        "id": "q0Ck7LmgYvYi",
        "outputId": "d3c78b5c-041d-4d8d-f9f0-02203e605767"
      },
      "execution_count": 4,
      "outputs": [
        {
          "output_type": "stream",
          "name": "stdout",
          "text": [
            "Digite seu nome: Vitor\n",
            "Digite sua idade: 23\n",
            "Olá, Vitor!\n",
            "Seja bem-vindo ao nosso sistema.\n"
          ]
        }
      ]
    },
    {
      "cell_type": "code",
      "source": [
        "nome = input(\"Digite seu nome: \")\n",
        "idade = int(input(\"Digite sua idade: \"))\n",
        "if idade >= 18:\n",
        "    print(f\"Olá, {nome}!\")\n",
        "    print(\"Seja bem-vindo ao nosso sistema.\")\n",
        "else:\n",
        "    print(f\"Olá, {nome}!\")\n",
        "    print(\"Acesso negado.\")"
      ],
      "metadata": {
        "colab": {
          "base_uri": "https://localhost:8080/"
        },
        "id": "ScO-MkulaJfl",
        "outputId": "5af314a6-66d6-43a8-b08f-21002ec0a276"
      },
      "execution_count": 5,
      "outputs": [
        {
          "output_type": "stream",
          "name": "stdout",
          "text": [
            "Digite seu nome: João\n",
            "Digite sua idade: 15\n",
            "Olá, João!\n",
            "Acesso negado.\n"
          ]
        }
      ]
    },
    {
      "cell_type": "code",
      "source": [
        "nome = input(\"Digite seu nome: \")\n",
        "idade = int(input(\"Digite sua idade: \"))\n",
        "if idade >= 18:\n",
        "    print(f\"Olá, {nome}!\")\n",
        "    print(\"Seja bem-vindo ao nosso sistema.\")\n",
        "    if len(nome) > 5:\n",
        "        print(\"Seu nome é muito longo.\")\n",
        "    else:\n",
        "        print(\"Seu nome é muito curto.\")\n",
        "else:\n",
        "    print(f\"Olá, {nome}!\")\n",
        "    print(\"Acesso negado.\")"
      ],
      "metadata": {
        "colab": {
          "base_uri": "https://localhost:8080/"
        },
        "id": "BUOQ24Hfab6a",
        "outputId": "b64e3232-d64d-4d75-c4f6-f31061a97061"
      },
      "execution_count": 6,
      "outputs": [
        {
          "output_type": "stream",
          "name": "stdout",
          "text": [
            "Digite seu nome: Vitor\n",
            "Digite sua idade: 23\n",
            "Olá, Vitor!\n",
            "Seja bem-vindo ao nosso sistema.\n",
            "Seu nome é muito curto.\n"
          ]
        }
      ]
    },
    {
      "cell_type": "code",
      "source": [
        "nome = input(\"Digite seu nome: \")\n",
        "idade = int(input(\"Digite sua idade: \"))\n",
        "if idade >= 18:\n",
        "    print(f\"Olá, {nome}!\")\n",
        "    print(\"Seja bem-vindo ao nosso sistema.\")\n",
        "    if len(nome) > 5:\n",
        "        print(\"Seu nome é muito longo.\")\n",
        "    else:\n",
        "        print(\"Seu nome é muito curto.\")\n",
        "else:\n",
        "    print(f\"Olá, {nome}!\")\n",
        "    print(\"Acesso negado.\")"
      ],
      "metadata": {
        "colab": {
          "base_uri": "https://localhost:8080/"
        },
        "id": "5hM2w5Ymar4M",
        "outputId": "15a6e3f1-713a-4181-e1cc-16282f9a210e"
      },
      "execution_count": 10,
      "outputs": [
        {
          "output_type": "stream",
          "name": "stdout",
          "text": [
            "Digite seu nome: Rafael\n",
            "Digite sua idade: 22\n",
            "Olá, Rafael!\n",
            "Seja bem-vindo ao nosso sistema.\n",
            "Seu nome é muito longo.\n"
          ]
        }
      ]
    }
  ]
}