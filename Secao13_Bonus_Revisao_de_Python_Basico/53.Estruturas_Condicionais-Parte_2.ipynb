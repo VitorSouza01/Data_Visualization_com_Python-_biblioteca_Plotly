{
  "nbformat": 4,
  "nbformat_minor": 0,
  "metadata": {
    "colab": {
      "provenance": []
    },
    "kernelspec": {
      "name": "python3",
      "display_name": "Python 3"
    },
    "language_info": {
      "name": "python"
    }
  },
  "cells": [
    {
      "cell_type": "code",
      "execution_count": null,
      "metadata": {
        "id": "m0amPuiebFHY"
      },
      "outputs": [],
      "source": [
        "if <condição1>:\n",
        "    <bloco_de_código1>\n",
        "elif <condição2>:\n",
        "    <bloco_de_código2>\n",
        "elif <codição3>:\n",
        "    <bloco_de_código3>\n",
        "else:\n",
        "    <bloco_de_código4>"
      ]
    },
    {
      "cell_type": "code",
      "source": [
        "num = 1\n",
        "if num == 1:\n",
        "    print(\"Cadastrar produto\")\n",
        "elif num == 2:\n",
        "    print(\"Remover produto\")\n",
        "elif num == 3:\n",
        "    print(\"Listar produtos\")\n",
        "else:\n",
        "    print(\"Opção inválida\")"
      ],
      "metadata": {
        "colab": {
          "base_uri": "https://localhost:8080/"
        },
        "id": "Yzv8dFrfbtm-",
        "outputId": "c1878682-ca3c-42f0-d4e3-6d90143d07bd"
      },
      "execution_count": 1,
      "outputs": [
        {
          "output_type": "stream",
          "name": "stdout",
          "text": [
            "Cadastrar produto\n"
          ]
        }
      ]
    },
    {
      "cell_type": "code",
      "source": [
        "num = 2\n",
        "if num == 1:\n",
        "    print(\"Cadastrar produto\")\n",
        "elif num == 2:\n",
        "    print(\"Remover produto\")\n",
        "elif num == 3:\n",
        "    print(\"Listar produtos\")\n",
        "else:\n",
        "    print(\"Opção inválida\")"
      ],
      "metadata": {
        "colab": {
          "base_uri": "https://localhost:8080/"
        },
        "id": "n-pN2mqrcIgu",
        "outputId": "5c016b69-80ea-4877-92d2-b022a81f420c"
      },
      "execution_count": 2,
      "outputs": [
        {
          "output_type": "stream",
          "name": "stdout",
          "text": [
            "Remover produto\n"
          ]
        }
      ]
    },
    {
      "cell_type": "code",
      "source": [
        "num = 3\n",
        "if num == 1:\n",
        "    print(\"Cadastrar produto\")\n",
        "elif num == 2:\n",
        "    print(\"Remover produto\")\n",
        "elif num == 3:\n",
        "    print(\"Listar produtos\")\n",
        "else:\n",
        "    print(\"Opção inválida\")"
      ],
      "metadata": {
        "colab": {
          "base_uri": "https://localhost:8080/"
        },
        "id": "u4GCSHtZcKPs",
        "outputId": "c726d3d7-21ec-42be-ac79-efe75bba88e4"
      },
      "execution_count": 3,
      "outputs": [
        {
          "output_type": "stream",
          "name": "stdout",
          "text": [
            "Listar produtos\n"
          ]
        }
      ]
    },
    {
      "cell_type": "code",
      "source": [
        "num = 4\n",
        "if num == 1:\n",
        "    print(\"Cadastrar produto\")\n",
        "elif num == 2:\n",
        "    print(\"Remover produto\")\n",
        "elif num == 3:\n",
        "    print(\"Listar produtos\")\n",
        "else:\n",
        "    print(\"Opção inválida\")"
      ],
      "metadata": {
        "colab": {
          "base_uri": "https://localhost:8080/"
        },
        "id": "nB57dPxSc0Ec",
        "outputId": "41e45bda-3aa4-4905-a9e5-04eb567259e1"
      },
      "execution_count": 7,
      "outputs": [
        {
          "output_type": "stream",
          "name": "stdout",
          "text": [
            "Opção inválida\n"
          ]
        }
      ]
    },
    {
      "cell_type": "code",
      "source": [
        "lista = []"
      ],
      "metadata": {
        "id": "1xQKphwocp4u"
      },
      "execution_count": 9,
      "outputs": []
    },
    {
      "cell_type": "code",
      "source": [
        "num = 1\n",
        "if num == 1:\n",
        "    print(\"Cadastrar produto\")\n",
        "    nome = input(\"Digite o nome do produto: \")\n",
        "    quantidade = int(input(\"Digite a quantidade: \"))\n",
        "    preco = float(input(\"Digite o preço do produto: \"))\n",
        "    if quantidade > 0:\n",
        "        print(\"Produto cadastrado com sucesso\")\n",
        "        lista.append([nome, quantidade, preco])\n",
        "    else:\n",
        "        print(\"Quantidade inválida\")\n",
        "elif num == 2:\n",
        "    print(\"Remover produto\")\n",
        "elif num == 3:\n",
        "    print(\"Listar produtos\")\n",
        "else:\n",
        "    print(\"Opção inválida\")"
      ],
      "metadata": {
        "colab": {
          "base_uri": "https://localhost:8080/"
        },
        "id": "oYaLs8AIcLwV",
        "outputId": "e53c0c43-9866-4a6b-c47e-42eac355938a"
      },
      "execution_count": 11,
      "outputs": [
        {
          "output_type": "stream",
          "name": "stdout",
          "text": [
            "Cadastrar produto\n",
            "Digite o nome do produto: Arroz\n",
            "Digite a quantidade: 10\n",
            "Digite o preço do produto: 6.5\n",
            "Produto cadastrado com sucesso\n"
          ]
        }
      ]
    },
    {
      "cell_type": "code",
      "source": [
        "lista"
      ],
      "metadata": {
        "colab": {
          "base_uri": "https://localhost:8080/"
        },
        "id": "Ps39srRYcvC7",
        "outputId": "3dd44af1-4298-4889-e766-d2d19644ed3f"
      },
      "execution_count": 12,
      "outputs": [
        {
          "output_type": "execute_result",
          "data": {
            "text/plain": [
              "[['Arroz', 10, 6.5]]"
            ]
          },
          "metadata": {},
          "execution_count": 12
        }
      ]
    },
    {
      "cell_type": "code",
      "source": [
        "num = 1\n",
        "if num == 1:\n",
        "    print(\"Cadastrar produto\")\n",
        "    nome = input(\"Digite o nome do produto: \")\n",
        "    quantidade = int(input(\"Digite a quantidade: \"))\n",
        "    preco = float(input(\"Digite o preço do produto: \"))\n",
        "    if quantidade > 0:\n",
        "        print(\"Produto cadastrado com sucesso\")\n",
        "        lista.append([nome, quantidade, preco])\n",
        "    else:\n",
        "        print(\"Quantidade inválida\")\n",
        "elif num == 2:\n",
        "    print(\"Remover produto\")\n",
        "elif num == 3:\n",
        "    print(\"Listar produtos\")\n",
        "else:\n",
        "    print(\"Opção inválida\")"
      ],
      "metadata": {
        "colab": {
          "base_uri": "https://localhost:8080/"
        },
        "id": "YfA2653gdfoM",
        "outputId": "d7ae0a0a-ce8b-433c-ca21-00e42d07abd6"
      },
      "execution_count": 13,
      "outputs": [
        {
          "output_type": "stream",
          "name": "stdout",
          "text": [
            "Cadastrar produto\n",
            "Digite o nome do produto: Feijão\n",
            "Digite a quantidade: 10\n",
            "Digite o preço do produto: 9.99\n",
            "Produto cadastrado com sucesso\n"
          ]
        }
      ]
    },
    {
      "cell_type": "code",
      "source": [
        "lista"
      ],
      "metadata": {
        "colab": {
          "base_uri": "https://localhost:8080/"
        },
        "id": "IAWPOH6MdjaX",
        "outputId": "f427c2ab-a785-4eb4-f414-9760de0bb345"
      },
      "execution_count": 14,
      "outputs": [
        {
          "output_type": "execute_result",
          "data": {
            "text/plain": [
              "[['Arroz', 10, 6.5], ['Feijão', 10, 9.99]]"
            ]
          },
          "metadata": {},
          "execution_count": 14
        }
      ]
    },
    {
      "cell_type": "code",
      "source": [
        "num = 1\n",
        "if num == 1:\n",
        "    print(\"Cadastrar produto\")\n",
        "    nome = input(\"Digite o nome do produto: \")\n",
        "    quantidade = int(input(\"Digite a quantidade: \"))\n",
        "    preco = float(input(\"Digite o preço do produto: \"))\n",
        "    if quantidade > 0:\n",
        "        print(\"Produto cadastrado com sucesso\")\n",
        "        lista.append([nome, quantidade, preco])\n",
        "    else:\n",
        "        print(\"Quantidade inválida\")\n",
        "elif num == 2:\n",
        "    print(\"Remover produto\")\n",
        "elif num == 3:\n",
        "    print(\"Listar produtos\")\n",
        "else:\n",
        "    print(\"Opção inválida\")"
      ],
      "metadata": {
        "colab": {
          "base_uri": "https://localhost:8080/"
        },
        "id": "B09ajzVndnPe",
        "outputId": "3c8b6d25-670b-4756-8314-3bbc5f4bc6e5"
      },
      "execution_count": 15,
      "outputs": [
        {
          "output_type": "stream",
          "name": "stdout",
          "text": [
            "Cadastrar produto\n",
            "Digite o nome do produto: Carne\n",
            "Digite a quantidade: -10\n",
            "Digite o preço do produto: 10.5\n",
            "Quantidade inválida\n"
          ]
        }
      ]
    },
    {
      "cell_type": "code",
      "source": [
        "lista"
      ],
      "metadata": {
        "colab": {
          "base_uri": "https://localhost:8080/"
        },
        "id": "02gS2CAEdrL3",
        "outputId": "9929ed11-f1f5-4481-d49d-77797430ee53"
      },
      "execution_count": 16,
      "outputs": [
        {
          "output_type": "execute_result",
          "data": {
            "text/plain": [
              "[['Arroz', 10, 6.5], ['Feijão', 10, 9.99]]"
            ]
          },
          "metadata": {},
          "execution_count": 16
        }
      ]
    }
  ]
}